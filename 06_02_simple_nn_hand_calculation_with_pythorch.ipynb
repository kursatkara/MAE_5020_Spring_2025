{
  "cells": [
    {
      "cell_type": "markdown",
      "metadata": {
        "id": "view-in-github",
        "colab_type": "text"
      },
      "source": [
        "<a href=\"https://colab.research.google.com/github/kursatkara/MAE_5020_Spring_2025/blob/master/06_02_simple_nn_hand_calculation_with_pythorch.ipynb\" target=\"_parent\"><img src=\"https://colab.research.google.com/assets/colab-badge.svg\" alt=\"Open In Colab\"/></a>"
      ]
    },
    {
      "cell_type": "code",
      "source": [
        "# PyTorch Manual Neural Network Example with Specific Values\n",
        "import torch\n",
        "import math\n",
        "\n",
        "# Set seed for reproducibility\n",
        "torch.manual_seed(42)\n",
        "\n",
        "# Hyperparameters\n",
        "input_size = 2\n",
        "hidden_size = 3\n",
        "output_size = 2\n",
        "lr = 0.3\n",
        "epochs = 30\n",
        "\n",
        "\n",
        "# Input values\n",
        "i1, i2 = 0.85, 0.25\n",
        "x = torch.tensor([[i1, i2]], dtype=torch.float32)\n",
        "\n",
        "# Target output\n",
        "y_true = torch.tensor([[1.0, 0.0]], dtype=torch.float32)\n",
        "\n",
        "# Initialize weights and biases with given values\n",
        "W1 = torch.tensor([[0.1, 0.2, 0.3],\n",
        "                   [0.4, 0.5, 0.6]], dtype=torch.float32, requires_grad=True)\n",
        "b1 = torch.tensor([[0.0, 0.0, 0.0]], dtype=torch.float32, requires_grad=True)\n",
        "\n",
        "W2 = torch.tensor([[0.25, 0.50],\n",
        "                   [0.1, 0.2],\n",
        "                   [0.3, 0.4]], dtype=torch.float32, requires_grad=True)\n",
        "b2 = torch.tensor([[0.0, 0.0]], dtype=torch.float32, requires_grad=True)\n",
        "\n",
        "\n",
        "# Training loop\n",
        "loss_history = []\n",
        "for epoch in range(epochs):\n",
        "    # Forward pass\n",
        "    z1 = x @ W1 + b1\n",
        "    a1 = torch.sigmoid(z1)\n",
        "    z2 = a1 @ W2 + b2\n",
        "    y_pred = torch.sigmoid(z2)\n",
        "\n",
        "    # Mean squared error loss\n",
        "    loss = torch.mean((y_true - y_pred) ** 2)\n",
        "    loss_history.append(loss.item())\n",
        "\n",
        "    # Backward pass\n",
        "    loss.backward()\n",
        "\n",
        "    # Gradient descent step\n",
        "    with torch.no_grad():\n",
        "        W1 -= lr * W1.grad\n",
        "        b1 -= lr * b1.grad\n",
        "        W2 -= lr * W2.grad\n",
        "        b2 -= lr * b2.grad\n",
        "\n",
        "        # Zero the gradients\n",
        "        #W1.grad.zero_()\n",
        "        #b1.grad.zero_()\n",
        "        #W2.grad.zero_()\n",
        "        #b2.grad.zero_()\n",
        "\n",
        "    # Print loss every 10 epochs\n",
        "    if epoch % 10 == 0:\n",
        "        print(f\"Epoch {epoch}: Loss = {loss.item():.4f}\")\n",
        "\n",
        "# Print gradients for verification\n",
        "print(\"Gradients:\")\n",
        "print(\"dL/dW2:\", W2.grad)\n",
        "print(\"dL/db2:\", b2.grad)\n",
        "print(\"dL/dW1:\", W1.grad)\n",
        "print(\"dL/db1:\", b1.grad)\n",
        "\n",
        "# Print weights\n",
        "print(\"Weights\")\n",
        "print(\"W2:\", W2)\n",
        "print(\"b2:\", b2)\n",
        "print(\"W1:\", W1)\n",
        "print(\"b1:\", b1)\n",
        "\n",
        "# Final prediction\n",
        "print(\"Final prediction:\", y_pred.detach().numpy())\n",
        "\n",
        "# Plot loss history\n",
        "import matplotlib.pyplot as plt\n",
        "plt.plot(loss_history)\n",
        "plt.xlabel(\"Epoch\")\n",
        "plt.ylabel(\"Loss\")\n",
        "plt.title(\"Loss History\")\n",
        "plt.show()\n",
        "\n"
      ],
      "metadata": {
        "colab": {
          "base_uri": "https://localhost:8080/",
          "height": 819
        },
        "id": "MRN4YfikOcoa",
        "outputId": "b9df5684-661d-4b73-ca79-fbbef270f048"
      },
      "id": "MRN4YfikOcoa",
      "execution_count": 22,
      "outputs": [
        {
          "output_type": "stream",
          "name": "stdout",
          "text": [
            "Epoch 0: Loss = 0.2956\n",
            "Epoch 10: Loss = 0.0034\n",
            "Epoch 20: Loss = 0.0000\n",
            "Gradients:\n",
            "dL/dW2: tensor([[-0.2868,  0.4553],\n",
            "        [-0.3057,  0.4843],\n",
            "        [-0.3187,  0.5051]])\n",
            "dL/db2: tensor([[-0.5350,  0.8478]])\n",
            "dL/dW1: tensor([[ 0.0182, -0.0205, -0.0094],\n",
            "        [ 0.0054, -0.0060, -0.0028]])\n",
            "dL/db1: tensor([[ 0.0214, -0.0241, -0.0111]])\n",
            "Weights\n",
            "W2: tensor([[ 2.5866, -3.2346],\n",
            "        [ 2.5860, -3.7673],\n",
            "        [ 2.8925, -3.7390]], requires_grad=True)\n",
            "b2: tensor([[ 4.3500, -6.9448]], requires_grad=True)\n",
            "W1: tensor([[-0.0852,  0.3315,  0.3387],\n",
            "        [ 0.3455,  0.5387,  0.6114]], requires_grad=True)\n",
            "b1: tensor([[-0.2178,  0.1547,  0.0455]], requires_grad=True)\n",
            "Final prediction: [[9.9982220e-01 3.3347333e-06]]\n"
          ]
        },
        {
          "output_type": "display_data",
          "data": {
            "text/plain": [
              "<Figure size 640x480 with 1 Axes>"
            ],
            "image/png": "[encoded data removed]"
          },
          "metadata": {}
        }
      ]
    }
  ],
  "metadata": {
    "colab": {
      "provenance": [],
      "include_colab_link": true
    },
    "language_info": {
      "name": "python"
    },
    "kernelspec": {
      "name": "python3",
      "display_name": "Python 3"
    }
  },
  "nbformat": 4,
  "nbformat_minor": 5
}