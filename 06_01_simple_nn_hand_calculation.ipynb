{
  "cells": [
    {
      "cell_type": "markdown",
      "metadata": {
        "id": "view-in-github",
        "colab_type": "text"
      },
      "source": [
        "<a href=\"https://colab.research.google.com/github/kursatkara/MAE_5020_Spring_2025/blob/master/06_01_simple_nn_hand_calculation.ipynb\" target=\"_parent\"><img src=\"https://colab.research.google.com/assets/colab-badge.svg\" alt=\"Open In Colab\"/></a>"
      ]
    },
    {
      "cell_type": "code",
      "source": [
        "# Simple feed forward neural network -\n",
        "\n",
        "import torch\n",
        "\n",
        "# Input values\n",
        "i1, i2 = 0.85, 0.25\n",
        "x = torch.tensor([[i1, i2]], dtype=torch.float32)\n",
        "\n",
        "# Target output\n",
        "y_true = torch.tensor([[1.0, 0.0]], dtype=torch.float32)\n",
        "\n",
        "# Learning rate\n",
        "lr = 0.3\n",
        "\n",
        "# Initialize weights and biases\n",
        "W1 = torch.tensor([[0.1, 0.2, 0.3],\n",
        "                   [0.4, 0.5, 0.6]], dtype=torch.float32, requires_grad=True)\n",
        "b1 = torch.tensor([[0.0, 0.0, 0.0]], dtype=torch.float32, requires_grad=True)\n",
        "\n",
        "W2 = torch.tensor([[0.25, 0.50],\n",
        "                   [0.1, 0.2],\n",
        "                   [0.3, 0.4]], dtype=torch.float32, requires_grad=True)\n",
        "b2 = torch.tensor([[0.0, 0.0]], dtype=torch.float32, requires_grad=True)\n",
        "\n",
        "# Save old weights\n",
        "W1_old = W1.clone().detach()\n",
        "b1_old = b1.clone().detach()\n",
        "W2_old = W2.clone().detach()\n",
        "b2_old = b2.clone().detach()\n",
        "\n",
        "# Forward pass\n",
        "z1 = x @ W1 + b1\n",
        "a1 = torch.sigmoid(z1)\n",
        "print(\"Hidden layer input (z1):\", z1.detach().numpy())\n",
        "print(\"Hidden layer output (a1):\", a1.detach().numpy())\n",
        "\n",
        "z2 = a1 @ W2 + b2\n",
        "y_pred = torch.sigmoid(z2)\n",
        "print(\"Output layer input (z2):\", z2.detach().numpy())\n",
        "print(\"****** Predicted output (y_pred):\", y_pred.detach().numpy())\n",
        "\n",
        "# Compute loss (mean squared error)\n",
        "loss = torch.mean((y_true - y_pred) ** 2)\n",
        "print(\"Loss:\", loss.item())\n",
        "\n",
        "# Backpropagation\n",
        "loss.backward()\n",
        "\n",
        "# Update weights\n",
        "with torch.no_grad():\n",
        "    W1 -= lr * W1.grad\n",
        "    b1 -= lr * b1.grad\n",
        "    W2 -= lr * W2.grad\n",
        "    b2 -= lr * b2.grad\n",
        "\n",
        "    # Clear gradients\n",
        "    W1.grad.zero_()\n",
        "    b1.grad.zero_()\n",
        "    W2.grad.zero_()\n",
        "    b2.grad.zero_()\n",
        "\n",
        "# Print old vs new weights\n",
        "print(\"\\nW1 (old):\\n\", W1_old)\n",
        "print(\"W1 (new):\\n\", W1)\n",
        "print(\"\\nb1 (old):\\n\", b1_old)\n",
        "print(\"b1 (new):\\n\", b1)\n",
        "print(\"\\nW2 (old):\\n\", W2_old)\n",
        "print(\"W2 (new):\\n\", W2)\n",
        "print(\"\\nb2 (old):\\n\", b2_old)\n",
        "print(\"b2 (new):\\n\", b2)"
      ],
      "metadata": {
        "id": "4JcnTl66ywkU",
        "outputId": "ed9990dd-805b-4667-e53b-180a83166f24",
        "colab": {
          "base_uri": "https://localhost:8080/"
        }
      },
      "id": "4JcnTl66ywkU",
      "execution_count": 3,
      "outputs": [
        {
          "output_type": "stream",
          "name": "stdout",
          "text": [
            "Hidden layer input (z1): [[0.185      0.29500002 0.40500003]]\n",
            "Hidden layer output (a1): [[0.54611856 0.5732198  0.5998884 ]]\n",
            "Output layer input (z2): [[0.37381813 0.6276586 ]]\n",
            "****** Predicted output (y_pred): [[0.59238124 0.65195835]]\n",
            "Loss: 0.29560136795043945\n",
            "\n",
            "W1 (old):\n",
            " tensor([[0.1000, 0.2000, 0.3000],\n",
            "        [0.4000, 0.5000, 0.6000]])\n",
            "W1 (new):\n",
            " tensor([[0.0969, 0.1988, 0.2982],\n",
            "        [0.3991, 0.4996, 0.5995]], requires_grad=True)\n",
            "\n",
            "b1 (old):\n",
            " tensor([[0., 0., 0.]])\n",
            "b1 (new):\n",
            " tensor([[-0.0037, -0.0014, -0.0021]], requires_grad=True)\n",
            "\n",
            "W2 (old):\n",
            " tensor([[0.2500, 0.5000],\n",
            "        [0.1000, 0.2000],\n",
            "        [0.3000, 0.4000]])\n",
            "W2 (new):\n",
            " tensor([[0.2661, 0.4758],\n",
            "        [0.1169, 0.1746],\n",
            "        [0.3177, 0.3734]], requires_grad=True)\n",
            "\n",
            "b2 (old):\n",
            " tensor([[0., 0.]])\n",
            "b2 (new):\n",
            " tensor([[ 0.0295, -0.0444]], requires_grad=True)\n"
          ]
        }
      ]
    }
  ],
  "metadata": {
    "colab": {
      "provenance": [],
      "include_colab_link": true
    },
    "language_info": {
      "name": "python"
    },
    "kernelspec": {
      "name": "python3",
      "display_name": "Python 3"
    }
  },
  "nbformat": 4,
  "nbformat_minor": 5
}