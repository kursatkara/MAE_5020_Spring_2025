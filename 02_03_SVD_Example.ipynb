{
  "nbformat": 4,
  "nbformat_minor": 0,
  "metadata": {
    "colab": {
      "provenance": [],
      "authorship_tag": "ABX9TyPfRvAyUSJ8EaebA9NN504k",
      "include_colab_link": true
    },
    "kernelspec": {
      "name": "python3",
      "display_name": "Python 3"
    },
    "language_info": {
      "name": "python"
    }
  },
  "cells": [
    {
      "cell_type": "markdown",
      "metadata": {
        "id": "view-in-github",
        "colab_type": "text"
      },
      "source": [
        "<a href=\"https://colab.research.google.com/github/kursatkara/MAE_5020_Spring_2025/blob/master/02_03_SVD_Example.ipynb\" target=\"_parent\"><img src=\"https://colab.research.google.com/assets/colab-badge.svg\" alt=\"Open In Colab\"/></a>"
      ]
    },
    {
      "cell_type": "markdown",
      "source": [
        "Example: Singular Value Decomposition"
      ],
      "metadata": {
        "id": "fMibVnHaUNem"
      }
    },
    {
      "cell_type": "code",
      "execution_count": 8,
      "metadata": {
        "colab": {
          "base_uri": "https://localhost:8080/"
        },
        "id": "fJ2IswnWTIjI",
        "outputId": "333f6733-b1d8-4754-aaa5-81ed74dd8483"
      },
      "outputs": [
        {
          "output_type": "stream",
          "name": "stdout",
          "text": [
            "Matrix A:\n",
            "[[1 2 3]\n",
            " [4 5 6]]\n",
            "\n",
            "U:\n",
            "[[-0.3863177  -0.92236578]\n",
            " [-0.92236578  0.3863177 ]]\n",
            "\n",
            "S:\n",
            "[9.508032   0.77286964]\n",
            "\n",
            "V:\n"
          ]
        },
        {
          "output_type": "execute_result",
          "data": {
            "text/plain": [
              "array([[-0.42866713, -0.56630692, -0.7039467 ],\n",
              "       [ 0.80596391,  0.11238241, -0.58119908],\n",
              "       [ 0.40824829, -0.81649658,  0.40824829]])"
            ]
          },
          "metadata": {},
          "execution_count": 8
        }
      ],
      "source": [
        "import numpy as np\n",
        "\n",
        "# 2x3 matrix\n",
        "A = np.array([[1, 2, 3],\n",
        "              [4, 5, 6]])\n",
        "# 3x4 matrix\n",
        "#A = np.array([[1, 2, 3, 4],\n",
        "#              [5, 6, 7, 8],\n",
        "#              [9,10,11,12]])\n",
        "\n",
        "\n",
        "\n",
        "# Apply SVD\n",
        "U, S, V = np.linalg.svd(A)\n",
        "\n",
        "print(\"Matrix A:\")\n",
        "print(A)\n",
        "print(\"\\nU:\")\n",
        "print(U)\n",
        "print(\"\\nS:\")\n",
        "print(S)\n",
        "print(\"\\nV:\")\n",
        "V\n"
      ]
    },
    {
      "cell_type": "code",
      "source": [],
      "metadata": {
        "id": "jOsntYRjTqaZ"
      },
      "execution_count": null,
      "outputs": []
    }
  ]
}