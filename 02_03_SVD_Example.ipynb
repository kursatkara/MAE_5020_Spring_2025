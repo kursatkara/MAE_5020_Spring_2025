{
  "nbformat": 4,
  "nbformat_minor": 0,
  "metadata": {
    "colab": {
      "provenance": [],
      "authorship_tag": "ABX9TyOt5zE/xY8Izs132Ywu78yZ",
      "include_colab_link": true
    },
    "kernelspec": {
      "name": "python3",
      "display_name": "Python 3"
    },
    "language_info": {
      "name": "python"
    }
  },
  "cells": [
    {
      "cell_type": "markdown",
      "metadata": {
        "id": "view-in-github",
        "colab_type": "text"
      },
      "source": [
        "<a href=\"https://colab.research.google.com/github/kursatkara/MAE_5020_Spring_2025/blob/master/02_03_SVD_Example.ipynb\" target=\"_parent\"><img src=\"https://colab.research.google.com/assets/colab-badge.svg\" alt=\"Open In Colab\"/></a>"
      ]
    },
    {
      "cell_type": "markdown",
      "source": [
        "Example: Singular Value Decomposition"
      ],
      "metadata": {
        "id": "fMibVnHaUNem"
      }
    },
    {
      "cell_type": "code",
      "execution_count": 10,
      "metadata": {
        "colab": {
          "base_uri": "https://localhost:8080/"
        },
        "id": "fJ2IswnWTIjI",
        "outputId": "a77404ea-64ea-4d90-842e-2a8e8ba9af2f"
      },
      "outputs": [
        {
          "output_type": "stream",
          "name": "stdout",
          "text": [
            "Matrix A:\n",
            "[[ 3  2  2]\n",
            " [ 2  3 -2]]\n",
            "\n",
            "U:\n",
            "[[-0.70710678 -0.70710678]\n",
            " [-0.70710678  0.70710678]]\n",
            "\n",
            "S:\n",
            "[5. 3.]\n",
            "\n",
            "V:\n"
          ]
        },
        {
          "output_type": "execute_result",
          "data": {
            "text/plain": [
              "array([[-7.07106781e-01, -7.07106781e-01, -6.47932334e-17],\n",
              "       [-2.35702260e-01,  2.35702260e-01, -9.42809042e-01],\n",
              "       [-6.66666667e-01,  6.66666667e-01,  3.33333333e-01]])"
            ]
          },
          "metadata": {},
          "execution_count": 10
        }
      ],
      "source": [
        "import numpy as np\n",
        "\n",
        "# 2x3 matrix\n",
        "A = np.array([[3, 2, 2],\n",
        "              [2, 3, -2]])\n",
        "\n",
        "# Apply SVD\n",
        "U, S, V = np.linalg.svd(A)\n",
        "\n",
        "print(\"Matrix A:\")\n",
        "print(A)\n",
        "print(\"\\nU:\")\n",
        "print(U)\n",
        "print(\"\\nS:\")\n",
        "print(S)\n",
        "print(\"\\nV:\")\n",
        "V\n"
      ]
    },
    {
      "cell_type": "code",
      "source": [],
      "metadata": {
        "id": "jOsntYRjTqaZ"
      },
      "execution_count": null,
      "outputs": []
    }
  ]
}