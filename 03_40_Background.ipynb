{
  "nbformat": 4,
  "nbformat_minor": 0,
  "metadata": {
    "colab": {
      "provenance": [],
      "authorship_tag": "ABX9TyOQz0dX/FV2kQIg+vldtz2K",
      "include_colab_link": true
    },
    "kernelspec": {
      "name": "python3",
      "display_name": "Python 3"
    },
    "language_info": {
      "name": "python"
    }
  },
  "cells": [
    {
      "cell_type": "markdown",
      "metadata": {
        "id": "view-in-github",
        "colab_type": "text"
      },
      "source": [
        "<a href=\"https://colab.research.google.com/github/kursatkara/MAE_5020_Spring_2025/blob/master/03_40_Background.ipynb\" target=\"_parent\"><img src=\"https://colab.research.google.com/assets/colab-badge.svg\" alt=\"Open In Colab\"/></a>"
      ]
    },
    {
      "cell_type": "code",
      "execution_count": 1,
      "metadata": {
        "colab": {
          "base_uri": "https://localhost:8080/"
        },
        "id": "1s0MrTCAJsNJ",
        "outputId": "a5d64ace-94d3-4a40-8e1b-041d1cd4fa9b"
      },
      "outputs": [
        {
          "output_type": "stream",
          "name": "stdout",
          "text": [
            "A matrix:\n",
            "[[ 2  4  6]\n",
            " [ 8 10 12]] \n",
            "\n",
            "Flattened A matrix:\n",
            "[ 2  4  6  8 10 12] \n",
            "\n",
            "mean of A, (flattened): 7.0\n",
            "mean of A, axis = 0 (column): [5. 7. 9.]\n",
            "mean of A, axis = 1 (row): [ 4. 10.] \n",
            "\n"
          ]
        }
      ],
      "source": [
        "import numpy as np\n",
        "\n",
        "A = np.array([[2, 4, 6], [8, 10, 12]])\n",
        "\n",
        "print(\"A matrix:\")\n",
        "print(A,\"\\n\")\n",
        "\n",
        "print(\"Flattened A matrix:\")\n",
        "print(A.flatten(),\"\\n\")\n",
        "\n",
        "print(\"mean of A, (flattened):\",np.mean(A))\n",
        "print(\"mean of A, axis = 0 (column):\", np.mean(A,axis=0))\n",
        "print(\"mean of A, axis = 1 (row):\",np.mean(A,axis=1),\"\\n\")\n"
      ]
    },
    {
      "cell_type": "code",
      "source": [
        "# np.random.randn, return a sample (or samples) from the “standard normal” distribution.\n",
        "# It draw samples from a standard Normal distribution (mean=0, stdev=1).\n",
        "A = np.random.randn(2,4)\n",
        "print(\"Random A:\\n\", A)\n",
        "print(\"Row mean of A:\",np.mean(A, axis=1))\n",
        "print(\"Standard deviation of A:\",np.std(A))\n"
      ],
      "metadata": {
        "colab": {
          "base_uri": "https://localhost:8080/"
        },
        "id": "7U34cKsqJxGw",
        "outputId": "02e642dd-fd4f-43ed-e13d-6a88c4972c9a"
      },
      "execution_count": 2,
      "outputs": [
        {
          "output_type": "stream",
          "name": "stdout",
          "text": [
            "Random A:\n",
            " [[-0.27450132  0.36467502  1.31009146  0.07812918]\n",
            " [-0.73564061 -0.47194381  1.25387019  0.51634588]]\n",
            "Row mean of A: [0.36959858 0.14065791]\n",
            "Standard deviation of A: 0.708233791244668\n"
          ]
        }
      ]
    },
    {
      "cell_type": "code",
      "source": [
        "# Construct an array by repeating given number by repetitions\n",
        "\n",
        "a = np.tile(1, 5)\n",
        "print(a)"
      ],
      "metadata": {
        "colab": {
          "base_uri": "https://localhost:8080/"
        },
        "id": "5r6fTaGwcsKD",
        "outputId": "c1e19bd8-297a-4b7b-91ed-cebdcd006039"
      },
      "execution_count": 3,
      "outputs": [
        {
          "output_type": "stream",
          "name": "stdout",
          "text": [
            "[1 1 1 1 1]\n"
          ]
        }
      ]
    },
    {
      "cell_type": "code",
      "source": [
        "b = np.tile([1, 2], 5)\n",
        "print(b)"
      ],
      "metadata": {
        "colab": {
          "base_uri": "https://localhost:8080/"
        },
        "id": "eZG5TWuvg0pd",
        "outputId": "66283139-2b89-47f0-82a1-771aa9972277"
      },
      "execution_count": 4,
      "outputs": [
        {
          "output_type": "stream",
          "name": "stdout",
          "text": [
            "[1 2 1 2 1 2 1 2 1 2]\n"
          ]
        }
      ]
    },
    {
      "cell_type": "code",
      "source": [
        "c = np.tile([1, 2], (5,1))\n",
        "print(c)"
      ],
      "metadata": {
        "colab": {
          "base_uri": "https://localhost:8080/"
        },
        "id": "e389qXgrg_9c",
        "outputId": "e2bbaae0-2a1e-4b09-8ab5-35c0cc85465c"
      },
      "execution_count": 5,
      "outputs": [
        {
          "output_type": "stream",
          "name": "stdout",
          "text": [
            "[[1 2]\n",
            " [1 2]\n",
            " [1 2]\n",
            " [1 2]\n",
            " [1 2]]\n"
          ]
        }
      ]
    },
    {
      "cell_type": "code",
      "source": [
        "c = np.tile([1, 2], (5,1)).T\n",
        "print(c)"
      ],
      "metadata": {
        "colab": {
          "base_uri": "https://localhost:8080/"
        },
        "id": "uWkBPeXuhVwJ",
        "outputId": "355daf84-5f96-466c-866a-cd999b73768d"
      },
      "execution_count": 6,
      "outputs": [
        {
          "output_type": "stream",
          "name": "stdout",
          "text": [
            "[[1 1 1 1 1]\n",
            " [2 2 2 2 2]]\n"
          ]
        }
      ]
    },
    {
      "cell_type": "code",
      "source": [
        "d = np.tile([1, 2], (1,5))\n",
        "print(d)"
      ],
      "metadata": {
        "colab": {
          "base_uri": "https://localhost:8080/"
        },
        "id": "1dAOsQsChKc3",
        "outputId": "2765aad7-393b-48bc-be28-bdb94af2ba8f"
      },
      "execution_count": 7,
      "outputs": [
        {
          "output_type": "stream",
          "name": "stdout",
          "text": [
            "[[1 2 1 2 1 2 1 2 1 2]]\n"
          ]
        }
      ]
    },
    {
      "cell_type": "code",
      "source": [],
      "metadata": {
        "id": "3K8UU5EUhPgI"
      },
      "execution_count": 7,
      "outputs": []
    }
  ]
}