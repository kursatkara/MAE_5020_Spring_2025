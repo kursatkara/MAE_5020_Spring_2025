{
  "nbformat": 4,
  "nbformat_minor": 0,
  "metadata": {
    "colab": {
      "provenance": [],
      "authorship_tag": "ABX9TyPvw5j7TqbHx0yEMkf4ekEl",
      "include_colab_link": true
    },
    "kernelspec": {
      "name": "python3",
      "display_name": "Python 3"
    },
    "language_info": {
      "name": "python"
    }
  },
  "cells": [
    {
      "cell_type": "markdown",
      "metadata": {
        "id": "view-in-github",
        "colab_type": "text"
      },
      "source": [
        "<a href=\"https://colab.research.google.com/github/kursatkara/MAE_5020_Spring_2025/blob/master/03_40_Background.ipynb\" target=\"_parent\"><img src=\"https://colab.research.google.com/assets/colab-badge.svg\" alt=\"Open In Colab\"/></a>"
      ]
    },
    {
      "cell_type": "code",
      "execution_count": 29,
      "metadata": {
        "colab": {
          "base_uri": "https://localhost:8080/"
        },
        "id": "1s0MrTCAJsNJ",
        "outputId": "adf16ccd-6047-472a-9c70-eff569dd3e0b"
      },
      "outputs": [
        {
          "output_type": "stream",
          "name": "stdout",
          "text": [
            "A matrix:\n",
            "[[ 2  4  6]\n",
            " [ 8 10 12]] \n",
            "\n",
            "Flattened A matrix:\n",
            "[ 2  4  6  8 10 12] \n",
            "\n",
            "mean of A, (flattened)      : 7.0\n",
            "mean of A, axis = 0 (column): [5. 7. 9.]\n",
            "mean of A, axis = 1 (row)   : [ 4. 10.] \n",
            "\n",
            "variance of A               : 11.666666666666666\n",
            "std deviation of A          : 3.415650255319866\n",
            "std deviation of A          : 3.415650255319866\n"
          ]
        }
      ],
      "source": [
        "import numpy as np\n",
        "\n",
        "A = np.array([[2, 4, 6], [8, 10, 12]])\n",
        "\n",
        "print(\"A matrix:\")\n",
        "print(A,\"\\n\")\n",
        "\n",
        "print(\"Flattened A matrix:\")\n",
        "print(A.flatten(),\"\\n\")\n",
        "\n",
        "print(\"mean of A, (flattened)      :\",np.mean(A))\n",
        "print(\"mean of A, axis = 0 (column):\", np.mean(A,axis=0))\n",
        "print(\"mean of A, axis = 1 (row)   :\",np.mean(A,axis=1),\"\\n\")\n",
        "\n",
        "print(\"variance of A               :\",np.var(A))\n",
        "print(\"std deviation of A          :\",np.std(A))\n",
        "print(\"std deviation of A          :\",np.sqrt(np.var(A)))\n",
        "\n",
        "# Calculate variance and stddev of columns of A\n",
        "\n",
        "\n",
        "# Calculate variance and stddev of rows of A\n"
      ]
    },
    {
      "cell_type": "code",
      "source": [
        "# np.random.randn, return a sample (or samples) from the “standard normal” distribution.\n",
        "# It draw samples from a standard Normal distribution (mean=0, stdev=1).\n",
        "A = np.random.randn(2,4)\n",
        "print(\"Random A:\\n\", A)\n",
        "print(\"Mean of A                     :\",np.mean(A))\n",
        "print(\"Standard deviation of A       :\",np.std(A))\n",
        "\n",
        "print(\"Mean of A (rows)              :\",np.mean(A,axis=1))\n",
        "print(\"Standard deviation of A (rows):\",np.std(A,axis=1))\n",
        "\n"
      ],
      "metadata": {
        "colab": {
          "base_uri": "https://localhost:8080/"
        },
        "id": "7U34cKsqJxGw",
        "outputId": "69f7c764-47fe-45ba-ab45-eedc93f35547"
      },
      "execution_count": 30,
      "outputs": [
        {
          "output_type": "stream",
          "name": "stdout",
          "text": [
            "Random A:\n",
            " [[-1.65516405  1.33033879  0.62442188  1.09852268]\n",
            " [ 0.42532827 -0.16403383  0.21271184  0.16102213]]\n",
            "Mean of A                     : 0.25414346570369806\n",
            "Standard deviation of A       : 0.856467933307905\n",
            "Mean of A (rows)              : [0.34952983 0.15875711]\n",
            "Standard deviation of A (rows): [1.18504638 0.21105119]\n"
          ]
        }
      ]
    },
    {
      "cell_type": "code",
      "source": [
        "# Construct an array by repeating given number by repetitions\n",
        "\n",
        "a = np.tile(1, 5)\n",
        "print(a)"
      ],
      "metadata": {
        "colab": {
          "base_uri": "https://localhost:8080/"
        },
        "id": "5r6fTaGwcsKD",
        "outputId": "1b977515-a781-4c59-acb2-806257ac0c9f"
      },
      "execution_count": 31,
      "outputs": [
        {
          "output_type": "stream",
          "name": "stdout",
          "text": [
            "[1 1 1 1 1]\n"
          ]
        }
      ]
    },
    {
      "cell_type": "code",
      "source": [
        "b = np.tile([1, 2], 5)\n",
        "print(b)"
      ],
      "metadata": {
        "colab": {
          "base_uri": "https://localhost:8080/"
        },
        "id": "eZG5TWuvg0pd",
        "outputId": "7c71398a-6e4e-4c1a-acdc-2c8187813da0"
      },
      "execution_count": 32,
      "outputs": [
        {
          "output_type": "stream",
          "name": "stdout",
          "text": [
            "[1 2 1 2 1 2 1 2 1 2]\n"
          ]
        }
      ]
    },
    {
      "cell_type": "code",
      "source": [
        "c = np.tile([1, 3], (5,2))\n",
        "print(c)"
      ],
      "metadata": {
        "colab": {
          "base_uri": "https://localhost:8080/"
        },
        "id": "e389qXgrg_9c",
        "outputId": "23ef4508-30aa-4fcb-c7d9-4da9c9477d3a"
      },
      "execution_count": 33,
      "outputs": [
        {
          "output_type": "stream",
          "name": "stdout",
          "text": [
            "[[1 3 1 3]\n",
            " [1 3 1 3]\n",
            " [1 3 1 3]\n",
            " [1 3 1 3]\n",
            " [1 3 1 3]]\n"
          ]
        }
      ]
    },
    {
      "cell_type": "code",
      "source": [
        "c = np.tile([1, 3], (5,2)).T\n",
        "print(c)"
      ],
      "metadata": {
        "colab": {
          "base_uri": "https://localhost:8080/"
        },
        "id": "uWkBPeXuhVwJ",
        "outputId": "7de60a4e-5366-44e2-d3ff-e6e32ea2fb79"
      },
      "execution_count": 34,
      "outputs": [
        {
          "output_type": "stream",
          "name": "stdout",
          "text": [
            "[[1 1 1 1 1]\n",
            " [3 3 3 3 3]\n",
            " [1 1 1 1 1]\n",
            " [3 3 3 3 3]]\n"
          ]
        }
      ]
    },
    {
      "cell_type": "code",
      "source": [
        "d = np.tile([1, 3], (2,5))\n",
        "print(d)"
      ],
      "metadata": {
        "colab": {
          "base_uri": "https://localhost:8080/"
        },
        "id": "1dAOsQsChKc3",
        "outputId": "2a3344b8-591a-4518-ad18-758139ee4933"
      },
      "execution_count": 35,
      "outputs": [
        {
          "output_type": "stream",
          "name": "stdout",
          "text": [
            "[[1 3 1 3 1 3 1 3 1 3]\n",
            " [1 3 1 3 1 3 1 3 1 3]]\n"
          ]
        }
      ]
    },
    {
      "cell_type": "code",
      "source": [],
      "metadata": {
        "id": "3K8UU5EUhPgI"
      },
      "execution_count": 35,
      "outputs": []
    }
  ]
}