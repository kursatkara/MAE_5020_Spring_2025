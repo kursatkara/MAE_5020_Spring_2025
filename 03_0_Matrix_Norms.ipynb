{
  "nbformat": 4,
  "nbformat_minor": 0,
  "metadata": {
    "colab": {
      "provenance": [],
      "authorship_tag": "ABX9TyOPlcuedBOjPq1RMAJnFggS",
      "include_colab_link": true
    },
    "kernelspec": {
      "name": "python3",
      "display_name": "Python 3"
    },
    "language_info": {
      "name": "python"
    }
  },
  "cells": [
    {
      "cell_type": "markdown",
      "metadata": {
        "id": "view-in-github",
        "colab_type": "text"
      },
      "source": [
        "<a href=\"https://colab.research.google.com/github/kursatkara/MAE_5020_Spring_2025/blob/master/03_0_Matrix_Norms.ipynb\" target=\"_parent\"><img src=\"https://colab.research.google.com/assets/colab-badge.svg\" alt=\"Open In Colab\"/></a>"
      ]
    },
    {
      "cell_type": "markdown",
      "source": [
        "Frobenius Norm and 2-norm of a Matrix"
      ],
      "metadata": {
        "id": "lyH6mTNkS-qj"
      }
    },
    {
      "cell_type": "code",
      "source": [
        "# https://numpy.org/doc/stable/reference/generated/numpy.linalg.norm.html\n",
        "# linalg.norm(x, ord=None, axis=None, keepdims=False)\n",
        "\n",
        "import numpy as np\n",
        "\n",
        "# Define a 3x3 matrix\n",
        "A = np.array([[1, 2, 3],\n",
        "              [4, 5, 6],\n",
        "              [7, 8, 9]])\n",
        "\n",
        "# Calculate the Frobenius norm directly\n",
        "frobenius_norm_direct = np.linalg.norm(A, 'fro')\n",
        "\n",
        "# Perform Singular Value Decomposition to get the singular values of A\n",
        "U, S, VT = np.linalg.svd(A)\n",
        "\n",
        "# Calculate the Frobenius norm using the singular values\n",
        "frobenius_norm_svd = np.sqrt(np.sum(S**2))\n",
        "\n",
        "print(\"The Frobenius norm of the matrix (direct method):\", frobenius_norm_direct)\n",
        "print(\"The Frobenius norm of the matrix (using SVD).   :\", frobenius_norm_svd)\n",
        "\n",
        "print(\"\")\n",
        "\n",
        "# The 2-norm of the matrix is the largest singular value\n",
        "two_norm_direct = np.linalg.norm(A, 2)\n",
        "\n",
        "two_norm_svd = np.max(S)\n",
        "\n",
        "print(\"The 2-norm of the matrix is (direct method)     :\", two_norm_direct)\n",
        "print(\"The 2-norm of the matrix is (using SVD)         :\", two_norm_svd)\n"
      ],
      "metadata": {
        "colab": {
          "base_uri": "https://localhost:8080/"
        },
        "id": "CTn40n8aS91C",
        "outputId": "7b653e4a-8193-4677-9c4c-39274cca2cf2"
      },
      "execution_count": null,
      "outputs": [
        {
          "output_type": "stream",
          "name": "stdout",
          "text": [
            "The Frobenius norm of the matrix (direct method): 16.881943016134134\n",
            "The Frobenius norm of the matrix (using SVD).   : 16.881943016134134\n",
            "\n",
            "The 2-norm of the matrix is (direct method)     : 16.84810335261421\n",
            "The 2-norm of the matrix is (using SVD)         : 16.84810335261421\n"
          ]
        }
      ]
    },
    {
      "cell_type": "code",
      "execution_count": null,
      "metadata": {
        "id": "oGRve1j6S80O"
      },
      "outputs": [],
      "source": []
    }
  ]
}