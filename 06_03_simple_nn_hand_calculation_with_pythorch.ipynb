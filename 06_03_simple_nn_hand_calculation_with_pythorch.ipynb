{
  "cells": [
    {
      "cell_type": "markdown",
      "metadata": {
        "id": "view-in-github",
        "colab_type": "text"
      },
      "source": [
        "<a href=\"https://colab.research.google.com/github/kursatkara/MAE_5020_Spring_2025/blob/master/06_03_simple_nn_hand_calculation_with_pythorch.ipynb\" target=\"_parent\"><img src=\"https://colab.research.google.com/assets/colab-badge.svg\" alt=\"Open In Colab\"/></a>"
      ]
    },
    {
      "cell_type": "code",
      "source": [
        "# Neural Network from Scratch in PyTorch\n",
        "# 2-input, 3-hidden, 2-output neurons\n",
        "\n",
        "import torch\n",
        "\n",
        "# Set seed for reproducibility\n",
        "torch.manual_seed(42)\n",
        "\n",
        "# Hyperparameters\n",
        "input_size = 2\n",
        "hidden_size = 3\n",
        "output_size = 2\n",
        "lr = 0.2\n",
        "epochs = 100\n",
        "\n",
        "# Sample training data (1 sample)\n",
        "x = torch.tensor([[0.5, 0.8]], dtype=torch.float32)\n",
        "y_true = torch.tensor([[1.0, 0.0]], dtype=torch.float32)\n",
        "\n",
        "# Initialize weights and biases\n",
        "W1 = torch.randn((input_size, hidden_size), requires_grad=True)\n",
        "b1 = torch.randn((1, hidden_size), requires_grad=True)\n",
        "W2 = torch.randn((hidden_size, output_size), requires_grad=True)\n",
        "b2 = torch.randn((1, output_size), requires_grad=True)\n",
        "\n",
        "# Training loop\n",
        "loss_history = []\n",
        "for epoch in range(epochs):\n",
        "    # Forward pass\n",
        "    z1 = x @ W1 + b1\n",
        "    a1 = torch.sigmoid(z1)\n",
        "    z2 = a1 @ W2 + b2\n",
        "    y_pred = torch.sigmoid(z2)\n",
        "\n",
        "    # Mean squared error loss\n",
        "    loss = torch.mean((y_true - y_pred) ** 2)\n",
        "    loss_history.append(loss.item())\n",
        "\n",
        "    # Backward pass\n",
        "    loss.backward()\n",
        "\n",
        "    # Gradient descent step\n",
        "    with torch.no_grad():\n",
        "        W1 -= lr * W1.grad\n",
        "        b1 -= lr * b1.grad\n",
        "        W2 -= lr * W2.grad\n",
        "        b2 -= lr * b2.grad\n",
        "\n",
        "        # Zero the gradients\n",
        "        #W1.grad.zero_()\n",
        "        #b1.grad.zero_()\n",
        "        #W2.grad.zero_()\n",
        "        #b2.grad.zero_()\n",
        "\n",
        "    # Print loss every 100 epochs\n",
        "    if epoch % 10 == 0:\n",
        "        print(f\"Epoch {epoch}: Loss = {loss.item():.4f}\")\n",
        "\n",
        "# Final prediction\n",
        "print(\"\\\\nFinal prediction:\", y_pred.detach().numpy())\n",
        "\n",
        "\n",
        "# Print gradients for verification\n",
        "print(\"Gradients:\")\n",
        "print(\"dL/dW2:\", W2.grad)\n",
        "print(\"dL/db2:\", b2.grad)\n",
        "print(\"dL/dW1:\", W1.grad)\n",
        "print(\"dL/db1:\", b1.grad)\n",
        "\n",
        "# Print weights\n",
        "print(\"Weights\")\n",
        "print(\"W2:\", W2)\n",
        "print(\"b2:\", b2)\n",
        "print(\"W1:\", W1)\n",
        "print(\"b1:\", b1)\n",
        "\n",
        "# Final prediction\n",
        "print(\"Final prediction:\", y_pred.detach().numpy())\n",
        "\n",
        "# Plot loss history\n",
        "import matplotlib.pyplot as plt\n",
        "plt.plot(loss_history)\n",
        "plt.xlabel(\"Epoch\")\n",
        "plt.ylabel(\"Loss\")\n",
        "plt.title(\"Loss History\")\n",
        "plt.show()\n",
        "\n"
      ],
      "metadata": {
        "colab": {
          "base_uri": "https://localhost:8080/",
          "height": 958
        },
        "id": "MRN4YfikOcoa",
        "outputId": "57966175-52a9-4dbc-a542-efd9e83d07c3"
      },
      "id": "MRN4YfikOcoa",
      "execution_count": 31,
      "outputs": [
        {
          "output_type": "stream",
          "name": "stdout",
          "text": [
            "Epoch 0: Loss = 0.4122\n",
            "Epoch 10: Loss = 0.0143\n",
            "Epoch 20: Loss = 0.0000\n",
            "Epoch 30: Loss = 0.0000\n",
            "Epoch 40: Loss = 0.0000\n",
            "Epoch 50: Loss = 0.0000\n",
            "Epoch 60: Loss = 0.0000\n",
            "Epoch 70: Loss = 0.0000\n",
            "Epoch 80: Loss = 0.0000\n",
            "Epoch 90: Loss = 0.0000\n",
            "\\nFinal prediction: [[1.0000000e+00 1.5406795e-24]]\n",
            "Gradients:\n",
            "dL/dW2: tensor([[-0.5821,  1.1045],\n",
            "        [-0.1129,  0.2125],\n",
            "        [-0.3797,  0.7194]])\n",
            "dL/db2: tensor([[-0.6274,  1.1907]])\n",
            "dL/dW1: tensor([[-0.0017,  0.0522, -0.0541],\n",
            "        [-0.0027,  0.0836, -0.0866]])\n",
            "dL/db1: tensor([[-0.0034,  0.1045, -0.1082]])\n",
            "Weights\n",
            "W2: tensor([[ 11.5153, -20.6645],\n",
            "        [  2.9933,  -2.9739],\n",
            "        [  5.6449, -14.7938]], requires_grad=True)\n",
            "b2: tensor([[ 13.0812, -21.5305]], requires_grad=True)\n",
            "W1: tensor([[ 0.3605, -0.8733,  1.2355],\n",
            "        [ 0.2685, -2.7262,  1.4153]], requires_grad=True)\n",
            "b1: tensor([[ 2.2559, -2.6422,  2.4637]], requires_grad=True)\n",
            "Final prediction: [[1.0000000e+00 1.5406795e-24]]\n"
          ]
        },
        {
          "output_type": "display_data",
          "data": {
            "text/plain": [
              "<Figure size 640x480 with 1 Axes>"
            ],
            "image/png": "[encoded data removed]"
          },
          "metadata": {}
        }
      ]
    }
  ],
  "metadata": {
    "colab": {
      "provenance": [],
      "include_colab_link": true
    },
    "language_info": {
      "name": "python"
    },
    "kernelspec": {
      "name": "python3",
      "display_name": "Python 3"
    }
  },
  "nbformat": 4,
  "nbformat_minor": 5
}