{
  "nbformat": 4,
  "nbformat_minor": 0,
  "metadata": {
    "colab": {
      "provenance": [],
      "authorship_tag": "ABX9TyNLl6R97UBkYTaTfwuExrMt",
      "include_colab_link": true
    },
    "kernelspec": {
      "name": "python3",
      "display_name": "Python 3"
    },
    "language_info": {
      "name": "python"
    }
  },
  "cells": [
    {
      "cell_type": "markdown",
      "metadata": {
        "id": "view-in-github",
        "colab_type": "text"
      },
      "source": [
        "<a href=\"https://colab.research.google.com/github/kursatkara/MAE_5020_Spring_2025/blob/master/01_Introduction_to_Python.ipynb\" target=\"_parent\"><img src=\"https://colab.research.google.com/assets/colab-badge.svg\" alt=\"Open In Colab\"/></a>"
      ]
    },
    {
      "cell_type": "markdown",
      "source": [
        "#**Introduction to Python**\n",
        "by \\\n",
        "Kursat Kara, ChatGPT4 and Codey\n",
        "\n",
        "Google Colab is an online platform that allows you to write and execute Python in your browser. \\\n",
        "It's an excellent tool for learning Python, as it requires no setup and offers free access to computing resources. \\\n",
        "Let's begin with the basics and gradually progress to more complex concepts.\n"
      ],
      "metadata": {
        "id": "UaoPTjOoTgVJ"
      }
    },
    {
      "cell_type": "code",
      "source": [
        "print(\"Hello, World!\")"
      ],
      "metadata": {
        "colab": {
          "base_uri": "https://localhost:8080/"
        },
        "id": "ERjOr9k5Tf1o",
        "outputId": "ac7c49ca-fc4b-4811-f411-29f13730acf5"
      },
      "execution_count": null,
      "outputs": [
        {
          "output_type": "stream",
          "name": "stdout",
          "text": [
            "Hello, World!\n"
          ]
        }
      ]
    },
    {
      "cell_type": "markdown",
      "source": [
        "#**Variables and Data Types:**\n",
        "\n",
        "Variables like my_number and my_string store data. \\\n",
        "Python is dynamically typed, so you don't need to declare the type of a variable."
      ],
      "metadata": {
        "id": "wFnzRUrhUab3"
      }
    },
    {
      "cell_type": "code",
      "source": [
        "my_number = 5\n",
        "my_string = \"Python\"\n",
        "print(my_number, my_string)\n"
      ],
      "metadata": {
        "colab": {
          "base_uri": "https://localhost:8080/"
        },
        "id": "M75JtOUMUVYq",
        "outputId": "a3f2c367-e4f3-40e9-c4b1-5c1ab6c82bad"
      },
      "execution_count": null,
      "outputs": [
        {
          "output_type": "stream",
          "name": "stdout",
          "text": [
            "5 Python\n"
          ]
        }
      ]
    },
    {
      "cell_type": "code",
      "source": [
        "# prompt: write a code to introduce basic variable types including, string, integer, float, boolean and print them.\n",
        "\n",
        "my_string = \"Hello, World!\"\n",
        "my_integer = 5\n",
        "my_float = 3.14159\n",
        "my_boolean = True\n",
        "print(my_string, my_integer, my_float, my_boolean)\n"
      ],
      "metadata": {
        "colab": {
          "base_uri": "https://localhost:8080/"
        },
        "id": "S_eRSMcBUky7",
        "outputId": "6b95fa30-286b-4bb1-8882-57a107f9a0b7"
      },
      "execution_count": null,
      "outputs": [
        {
          "output_type": "stream",
          "name": "stdout",
          "text": [
            "Hello, World! 5 3.14159 True\n"
          ]
        }
      ]
    },
    {
      "cell_type": "markdown",
      "source": [
        "#**Basic Arithmetic:**"
      ],
      "metadata": {
        "id": "4NQtrOW0WLVN"
      }
    },
    {
      "cell_type": "code",
      "source": [
        "# Basic Arithmetic Operations in Python\n",
        "\n",
        "# Variables for demonstration\n",
        "a = 15\n",
        "b = 4\n",
        "\n",
        "# Addition\n",
        "sum = a + b\n",
        "print(\"Addition:\", a, \"+\", b, \"=\", sum)\n",
        "\n",
        "# Subtraction\n",
        "difference = a - b\n",
        "print(\"Subtraction:\", a, \"-\", b, \"=\", difference)\n",
        "\n",
        "# Multiplication\n",
        "product = a * b\n",
        "print(\"Multiplication:\", a, \"*\", b, \"=\", product)\n",
        "\n",
        "# Division\n",
        "quotient = a / b\n",
        "print(\"Division:\", a, \"/\", b, \"=\", quotient)\n",
        "\n",
        "# Integer Division\n",
        "integer_division = a // b\n",
        "print(\"Integer Division:\", a, \"//\", b, \"=\", integer_division)\n",
        "\n",
        "# Modulus (Remainder)\n",
        "remainder = a % b\n",
        "print(\"Modulus:\", a, \"%\", b, \"=\", remainder)\n",
        "\n",
        "# Exponentiation\n",
        "exponentiation = a ** b\n",
        "print(\"Exponentiation:\", a, \"**\", b, \"=\", exponentiation)\n"
      ],
      "metadata": {
        "colab": {
          "base_uri": "https://localhost:8080/"
        },
        "id": "9xoVrG5JWQdJ",
        "outputId": "6dfccfd2-228b-422a-8bc8-8867b93b5d37"
      },
      "execution_count": null,
      "outputs": [
        {
          "output_type": "stream",
          "name": "stdout",
          "text": [
            "Addition: 15 + 4 = 19\n",
            "Subtraction: 15 - 4 = 11\n",
            "Multiplication: 15 * 4 = 60\n",
            "Division: 15 / 4 = 3.75\n",
            "Integer Division: 15 // 4 = 3\n",
            "Modulus: 15 % 4 = 3\n",
            "Exponentiation: 15 ** 4 = 50625\n"
          ]
        }
      ]
    },
    {
      "cell_type": "markdown",
      "source": [
        "#**Lists and Indexing**\n",
        "\n"
      ],
      "metadata": {
        "id": "wuUeUvDYXw3Z"
      }
    },
    {
      "cell_type": "code",
      "source": [
        "# Lists and Indexing in Python\n",
        "\n",
        "# Creating a list\n",
        "my_list = [10, 20, 30, 40, 50]\n",
        "print(\"Original List:\", my_list)\n",
        "\n",
        "# Accessing elements\n",
        "first_element = my_list[0]  # First element (index 0)\n",
        "second_element = my_list[1] # Second element (index 1)\n",
        "print(\"First element:\", first_element)\n",
        "print(\"Second element:\", second_element)\n",
        "\n",
        "# Negative indexing\n",
        "last_element = my_list[-1]  # Last element\n",
        "second_last_element = my_list[-2]  # Second last element\n",
        "print(\"Last element:\", last_element)\n",
        "print(\"Second last element:\", second_last_element)\n",
        "\n",
        "# Slicing\n",
        "first_three = my_list[0:3]  # First three elements\n",
        "last_two = my_list[-2:]    # Last two elements\n",
        "print(\"First three elements:\", first_three)\n",
        "print(\"Last two elements:\", last_two)\n",
        "\n",
        "# Modifying elements\n",
        "my_list[1] = 25  # Change the second element\n",
        "print(\"Modified list:\", my_list)\n",
        "\n",
        "# Appending and extending lists\n",
        "my_list.append(60)  # Append a single element\n",
        "print(\"List after appending 60:\", my_list)\n",
        "my_list.extend([70, 80])  # Extend the list with multiple elements\n",
        "print(\"List after extending with [70, 80]:\", my_list)\n",
        "\n",
        "# Removing elements\n",
        "my_list.remove(25)  # Remove the first occurrence of 25\n",
        "print(\"List after removing 25:\", my_list)\n",
        "popped_element = my_list.pop()  # Remove and return the last element\n",
        "print(\"Popped element:\", popped_element)\n",
        "print(\"List after popping an element:\", my_list)\n",
        "\n",
        "# Length of the list\n",
        "print(\"Length of the list:\", len(my_list))\n"
      ],
      "metadata": {
        "colab": {
          "base_uri": "https://localhost:8080/"
        },
        "id": "YU59cCoOU-wB",
        "outputId": "1d0b1363-3eec-4b9b-944b-a2abf96400db"
      },
      "execution_count": null,
      "outputs": [
        {
          "output_type": "stream",
          "name": "stdout",
          "text": [
            "Original List: [10, 20, 30, 40, 50]\n",
            "First element: 10\n",
            "Second element: 20\n",
            "Last element: 50\n",
            "Second last element: 40\n",
            "First three elements: [10, 20, 30]\n",
            "Last two elements: [40, 50]\n",
            "Modified list: [10, 25, 30, 40, 50]\n",
            "List after appending 60: [10, 25, 30, 40, 50, 60]\n",
            "List after extending with [70, 80]: [10, 25, 30, 40, 50, 60, 70, 80]\n",
            "List after removing 25: [10, 30, 40, 50, 60, 70, 80]\n",
            "Popped element: 80\n",
            "List after popping an element: [10, 30, 40, 50, 60, 70]\n",
            "Length of the list: 6\n"
          ]
        }
      ]
    },
    {
      "cell_type": "markdown",
      "source": [
        "#**Loops:**\n",
        "* **For Loop with List**: Iterates over each element in the list.\n",
        "* **For Loop with range()**: range() generates a sequence of numbers, which the for loop iterates over.\n",
        "* **Nested For Loops**: Using one loop inside another. The inner loop completes all its iterations for each iteration of the outer loop.\n",
        "* **While Loop**: Continues to loop as long as the condition (count < 3) is True.\n",
        "* **Break Statement**: Exits the loop when a certain condition is met (i == 5).\n",
        "* **Continue Statement**: Skips the current iteration and continues with the next one if a condition is met (i % 2 == 0).\n",
        "* **Loop with an Else Block**: The else block runs after the loop completes normally, without hitting a break statement.\n",
        "* **While Loop with Else**: Similar to the for loop, the else block is executed when the while loop condition becomes False."
      ],
      "metadata": {
        "id": "SV6fdDOVYqny"
      }
    },
    {
      "cell_type": "code",
      "source": [
        "# Loops in Python\n",
        "\n",
        "# Using a for loop with a list\n",
        "print(\"For Loop with List:\")\n",
        "fruits = [\"apple\", \"banana\", \"cherry\"]\n",
        "for fruit in fruits:\n",
        "    print(fruit)\n",
        "\n",
        "\n"
      ],
      "metadata": {
        "colab": {
          "base_uri": "https://localhost:8080/"
        },
        "id": "oamLZezeVuo0",
        "outputId": "1bd659dc-3b39-48f9-eb89-b3ba04cb2433"
      },
      "execution_count": null,
      "outputs": [
        {
          "output_type": "stream",
          "name": "stdout",
          "text": [
            "For Loop with List:\n",
            "apple\n",
            "banana\n",
            "cherry\n"
          ]
        }
      ]
    },
    {
      "cell_type": "code",
      "source": [
        "# Using a for loop with range()\n",
        "print(\"\\nFor Loop with range():\")\n",
        "for i in range(5):  # Will loop through numbers 0 to 4\n",
        "    print(i)"
      ],
      "metadata": {
        "colab": {
          "base_uri": "https://localhost:8080/"
        },
        "id": "7NnuU0fR8wZy",
        "outputId": "b6961259-ee0a-4e4b-f34a-e6fab49ef764"
      },
      "execution_count": null,
      "outputs": [
        {
          "output_type": "stream",
          "name": "stdout",
          "text": [
            "\n",
            "For Loop with range():\n",
            "0\n",
            "1\n",
            "2\n",
            "3\n",
            "4\n"
          ]
        }
      ]
    },
    {
      "cell_type": "code",
      "source": [
        "# Nested for loops\n",
        "print(\"\\nNested For Loops:\")\n",
        "for i in range(3):  # Outer loop\n",
        "    for j in range(2):  # Inner loop\n",
        "        print(f\"i: {i}, j: {j}\")\n"
      ],
      "metadata": {
        "colab": {
          "base_uri": "https://localhost:8080/"
        },
        "id": "_AusVchy81kK",
        "outputId": "fa167bd1-6efd-4e30-b74d-c8d3da18e2af"
      },
      "execution_count": null,
      "outputs": [
        {
          "output_type": "stream",
          "name": "stdout",
          "text": [
            "\n",
            "Nested For Loops:\n",
            "i: 0, j: 0\n",
            "i: 0, j: 1\n",
            "i: 1, j: 0\n",
            "i: 1, j: 1\n",
            "i: 2, j: 0\n",
            "i: 2, j: 1\n"
          ]
        }
      ]
    },
    {
      "cell_type": "code",
      "source": [
        "# Using a while loop\n",
        "print(\"\\nWhile Loop:\")\n",
        "count = 0\n",
        "while count < 3:\n",
        "    print(count)\n",
        "    count += 1"
      ],
      "metadata": {
        "colab": {
          "base_uri": "https://localhost:8080/"
        },
        "id": "gDmvZ-9f87oZ",
        "outputId": "b315af21-51dc-4d8d-fa75-ea9c86d88214"
      },
      "execution_count": null,
      "outputs": [
        {
          "output_type": "stream",
          "name": "stdout",
          "text": [
            "\n",
            "While Loop:\n",
            "0\n",
            "1\n",
            "2\n"
          ]
        }
      ]
    },
    {
      "cell_type": "code",
      "source": [
        "# Using break to exit a loop\n",
        "print(\"\\nBreak Statement:\")\n",
        "for i in range(10):\n",
        "    if i == 5:\n",
        "        break\n",
        "    print(i)\n"
      ],
      "metadata": {
        "colab": {
          "base_uri": "https://localhost:8080/"
        },
        "id": "_P-3wMWw8_m8",
        "outputId": "43239a04-65e4-4060-e648-0ce12128dc49"
      },
      "execution_count": null,
      "outputs": [
        {
          "output_type": "stream",
          "name": "stdout",
          "text": [
            "\n",
            "Break Statement:\n",
            "0\n",
            "1\n",
            "2\n",
            "3\n",
            "4\n"
          ]
        }
      ]
    },
    {
      "cell_type": "code",
      "source": [
        "# Using continue to skip an iteration\n",
        "print(\"\\nContinue Statement:\")\n",
        "for i in range(10):\n",
        "    if i % 2 == 0:\n",
        "        continue\n",
        "    print(i)"
      ],
      "metadata": {
        "colab": {
          "base_uri": "https://localhost:8080/"
        },
        "id": "Dpl9qSB-9C8H",
        "outputId": "625787bf-f3ea-40b5-bb81-88e439c9573e"
      },
      "execution_count": null,
      "outputs": [
        {
          "output_type": "stream",
          "name": "stdout",
          "text": [
            "\n",
            "Continue Statement:\n",
            "1\n",
            "3\n",
            "5\n",
            "7\n",
            "9\n"
          ]
        }
      ]
    },
    {
      "cell_type": "code",
      "source": [
        "# Loop with an else block\n",
        "print(\"\\nLoop with an Else Block:\")\n",
        "for i in range(3):\n",
        "    print(i)\n",
        "else:\n",
        "    print(\"Loop is finished\")"
      ],
      "metadata": {
        "colab": {
          "base_uri": "https://localhost:8080/"
        },
        "id": "hyyyHRUP9GuO",
        "outputId": "f00cbab0-13b9-46fb-a9b7-07aae327f22a"
      },
      "execution_count": null,
      "outputs": [
        {
          "output_type": "stream",
          "name": "stdout",
          "text": [
            "\n",
            "Loop with an Else Block:\n",
            "0\n",
            "1\n",
            "2\n",
            "Loop is finished\n"
          ]
        }
      ]
    },
    {
      "cell_type": "code",
      "source": [
        "# While loop with else\n",
        "print(\"\\nWhile Loop with Else Block:\")\n",
        "count = 0\n",
        "while count < 3:\n",
        "    print(count)\n",
        "    count += 1\n",
        "else:\n",
        "    print(\"Count is no longer less than 3\")"
      ],
      "metadata": {
        "colab": {
          "base_uri": "https://localhost:8080/"
        },
        "id": "AdC1YLT09Oay",
        "outputId": "d23b7e64-9bbd-473b-a3b2-34444bd2bf48"
      },
      "execution_count": null,
      "outputs": [
        {
          "output_type": "stream",
          "name": "stdout",
          "text": [
            "\n",
            "While Loop with Else Block:\n",
            "0\n",
            "1\n",
            "2\n",
            "Count is no longer less than 3\n"
          ]
        }
      ]
    },
    {
      "cell_type": "markdown",
      "source": [],
      "metadata": {
        "id": "dzMIpXFCY9Sq"
      }
    },
    {
      "cell_type": "markdown",
      "source": [
        "#**Conditional Statements:**\n",
        "* **Simple if statement**: Checks if a condition is true and executes the indented block if it is.\n",
        "* **if-else statement**: Adds an else block that is executed if the if condition is false.\n",
        "* **if-elif-else statement**: Adds one or more elif blocks to check additional conditions if the previous ones are false.\n",
        "* **Nested if statements**: Places an if statement inside another if statement. The nested if is only evaluated if the outer if condition is true.\n",
        "* **Using logical operators**: Demonstrates how to use and, or, and not to combine or negate conditions.\n",
        "* **Conditional expressions (Ternary Operators)**: Provides a shorter syntax for writing simple if-else statements. It's a one-line way to assign a value to a variable based on a condition."
      ],
      "metadata": {
        "id": "4YpMCg0S99ve"
      }
    },
    {
      "cell_type": "code",
      "source": [
        "# Simple if statement\n",
        "x = 10\n",
        "if x > 5:\n",
        "    print(\"x is greater than 5\")"
      ],
      "metadata": {
        "colab": {
          "base_uri": "https://localhost:8080/"
        },
        "id": "MGxwo8Jn9w6N",
        "outputId": "9545745e-c5f4-4d25-fe35-8144651d02bd"
      },
      "execution_count": null,
      "outputs": [
        {
          "output_type": "stream",
          "name": "stdout",
          "text": [
            "x is greater than 5\n"
          ]
        }
      ]
    },
    {
      "cell_type": "code",
      "source": [
        "# if-else statement\n",
        "y = 4\n",
        "if y > 5:\n",
        "    print(\"y is greater than 5\")\n",
        "else:\n",
        "    print(\"y is not greater than 5\")"
      ],
      "metadata": {
        "colab": {
          "base_uri": "https://localhost:8080/"
        },
        "id": "YTe3obd1-aYz",
        "outputId": "9603fe04-8786-44c4-c14f-94674e3740ba"
      },
      "execution_count": null,
      "outputs": [
        {
          "output_type": "stream",
          "name": "stdout",
          "text": [
            "y is not greater than 5\n"
          ]
        }
      ]
    },
    {
      "cell_type": "code",
      "source": [
        "# if-elif-else statement\n",
        "z = 7\n",
        "if z > 10:\n",
        "    print(\"z is greater than 10\")\n",
        "elif z > 5:\n",
        "    print(\"z is greater than 5 but not greater than 10\")\n",
        "else:\n",
        "    print(\"z is 5 or less\")"
      ],
      "metadata": {
        "colab": {
          "base_uri": "https://localhost:8080/"
        },
        "id": "yxbcIADP-dQc",
        "outputId": "f465ee50-019c-4b7a-bb76-7e6401c2b7d5"
      },
      "execution_count": null,
      "outputs": [
        {
          "output_type": "stream",
          "name": "stdout",
          "text": [
            "z is greater than 5 but not greater than 10\n"
          ]
        }
      ]
    },
    {
      "cell_type": "code",
      "source": [
        "# Nested if statements\n",
        "a = 10\n",
        "b = 20\n",
        "if a > 5:\n",
        "    print(\"a is greater than 5\")\n",
        "    if b > 15:\n",
        "        print(\"b is greater than 15\")\n",
        "    else:\n",
        "        print(\"b is not greater than 15\")"
      ],
      "metadata": {
        "colab": {
          "base_uri": "https://localhost:8080/"
        },
        "id": "ZNMQMxDy-8xV",
        "outputId": "5b80f77b-197f-480b-ede5-575d9de33f43"
      },
      "execution_count": null,
      "outputs": [
        {
          "output_type": "stream",
          "name": "stdout",
          "text": [
            "a is greater than 5\n",
            "b is greater than 15\n"
          ]
        }
      ]
    },
    {
      "cell_type": "code",
      "source": [
        "# Using logical operators (and, or, not)\n",
        "c = 15\n",
        "if c > 10 and c < 20:\n",
        "    print(\"c is greater than 10 and less than 20\")\n",
        "\n",
        "d = 5\n",
        "if d < 10 or d == 10:\n",
        "    print(\"d is less than or equal to 10\")\n",
        "\n",
        "e = True\n",
        "if not e:\n",
        "    print(\"e is False\")\n",
        "else:\n",
        "    print(\"e is True\")"
      ],
      "metadata": {
        "colab": {
          "base_uri": "https://localhost:8080/"
        },
        "id": "LPCkckk3_CZl",
        "outputId": "be77bb69-50b7-4505-a885-209d678559e4"
      },
      "execution_count": null,
      "outputs": [
        {
          "output_type": "stream",
          "name": "stdout",
          "text": [
            "c is greater than 10 and less than 20\n",
            "d is less than or equal to 10\n",
            "e is True\n"
          ]
        }
      ]
    },
    {
      "cell_type": "code",
      "source": [
        "# Conditional expressions (Ternary Operators)\n",
        "f = 20\n",
        "message = \"f is greater than 10\" if f > 10 else \"f is 10 or less\"\n",
        "print(message)"
      ],
      "metadata": {
        "colab": {
          "base_uri": "https://localhost:8080/"
        },
        "id": "M7UBYUkn_ICx",
        "outputId": "3dab21e7-9df2-42ac-85e8-2849a3a2410c"
      },
      "execution_count": null,
      "outputs": [
        {
          "output_type": "stream",
          "name": "stdout",
          "text": [
            "f is greater than 10\n"
          ]
        }
      ]
    },
    {
      "cell_type": "markdown",
      "source": [
        "#**Functions:**\n",
        "* **Defining a Simple Function**: greet() is a basic function that prints a message.\n",
        "* **Function with Parameters**: personalized_greet(name) takes a parameter and uses it in its operations.\n",
        "* **Function with Return Value**: add(a, b) returns the sum of two numbers.\n",
        "* **Function with Default Parameter Values**: multiply(a, b=2) demonstrates the use of default parameters.\n",
        "* **Function with Variable Number of Arguments**: sum_all(*numbers) uses *args to accept a variable number of arguments.\n",
        "* **Keyword Arguments**: describe_person(**details) uses **kwargs to accept keyword (named) arguments as a dictionary.\n",
        "* **Demonstration of Variable Scope**: Illustrates how variables defined inside a function are not accessible outside of it."
      ],
      "metadata": {
        "id": "G-TjdK6X_njq"
      }
    },
    {
      "cell_type": "code",
      "source": [
        "# Defining a simple function\n",
        "def greet():\n",
        "    print(\"Hello, World!\")\n",
        "\n",
        "# Calling the function\n",
        "greet()"
      ],
      "metadata": {
        "colab": {
          "base_uri": "https://localhost:8080/"
        },
        "id": "ZUDEs3eS_m4Y",
        "outputId": "935548d2-f1ed-4559-f0f2-031f86d3477c"
      },
      "execution_count": null,
      "outputs": [
        {
          "output_type": "stream",
          "name": "stdout",
          "text": [
            "Hello, World!\n"
          ]
        }
      ]
    },
    {
      "cell_type": "code",
      "source": [
        "# Function with parameters\n",
        "def personalized_greet(name):\n",
        "    print(f\"Hello, {name}!\")\n",
        "\n",
        "# Calling the function with a parameter\n",
        "personalized_greet(\"Alice\")"
      ],
      "metadata": {
        "colab": {
          "base_uri": "https://localhost:8080/"
        },
        "id": "x-zDuPwWApXM",
        "outputId": "78c1453d-6c09-4144-c84c-aaac24164bb4"
      },
      "execution_count": null,
      "outputs": [
        {
          "output_type": "stream",
          "name": "stdout",
          "text": [
            "Hello, Alice!\n"
          ]
        }
      ]
    },
    {
      "cell_type": "code",
      "source": [
        "# Function with return value\n",
        "def add(a, b):\n",
        "    return a + b\n",
        "\n",
        "# Using the return value of a function\n",
        "result = add(3, 4)\n",
        "print(f\"The result of addition is: {result}\")"
      ],
      "metadata": {
        "colab": {
          "base_uri": "https://localhost:8080/"
        },
        "id": "OhQVWsBCAwgB",
        "outputId": "1f26164f-ec4b-43cf-b22a-645224212e20"
      },
      "execution_count": null,
      "outputs": [
        {
          "output_type": "stream",
          "name": "stdout",
          "text": [
            "The result of addition is: 7\n"
          ]
        }
      ]
    },
    {
      "cell_type": "code",
      "source": [
        "# Function with default parameter values\n",
        "def multiply(a, b=2):\n",
        "    return a * b\n",
        "\n",
        "# Calling function with default parameter\n",
        "print(\"Multiply with default value:\", multiply(5))\n",
        "# Calling function with two arguments\n",
        "print(\"Multiply with two arguments:\", multiply(5, 3))"
      ],
      "metadata": {
        "colab": {
          "base_uri": "https://localhost:8080/"
        },
        "id": "bn4-ivbaBLCz",
        "outputId": "f4fe2f04-338d-44f5-8aa4-f84fe0d61d06"
      },
      "execution_count": null,
      "outputs": [
        {
          "output_type": "stream",
          "name": "stdout",
          "text": [
            "Multiply with default value: 10\n",
            "Multiply with two arguments: 15\n"
          ]
        }
      ]
    },
    {
      "cell_type": "code",
      "source": [
        "# Function with variable number of arguments (*args)\n",
        "def sum_all(*numbers):\n",
        "    total = 0\n",
        "    for number in numbers:\n",
        "        total += number\n",
        "    return total\n",
        "\n",
        "# Calling function with variable number of arguments\n",
        "print(\"Sum of 1, 2, 3:\", sum_all(1, 2, 3))"
      ],
      "metadata": {
        "colab": {
          "base_uri": "https://localhost:8080/"
        },
        "id": "f5TANzZBBPjW",
        "outputId": "2c03d8a8-5572-45f2-a535-e813134f7e8e"
      },
      "execution_count": null,
      "outputs": [
        {
          "output_type": "stream",
          "name": "stdout",
          "text": [
            "Sum of 1, 2, 3: 6\n"
          ]
        }
      ]
    },
    {
      "cell_type": "code",
      "source": [
        "# Keyword arguments (**kwargs)\n",
        "def describe_person(**details):\n",
        "    for key, value in details.items():\n",
        "        print(f\"{key}: {value}\")\n",
        "\n",
        "# Calling function with keyword arguments\n",
        "describe_person(name=\"Alice\", age=30, city=\"New York\")"
      ],
      "metadata": {
        "colab": {
          "base_uri": "https://localhost:8080/"
        },
        "id": "gkQfIj4gBb3j",
        "outputId": "c1602bc9-174b-4359-8216-40e721203f9b"
      },
      "execution_count": null,
      "outputs": [
        {
          "output_type": "stream",
          "name": "stdout",
          "text": [
            "name: Alice\n",
            "age: 30\n",
            "city: New York\n"
          ]
        }
      ]
    },
    {
      "cell_type": "code",
      "source": [
        "# Demonstration of variable scope\n",
        "def scope_test():\n",
        "    function_scope_variable = \"I am inside the function\"\n",
        "    print(function_scope_variable)\n",
        "\n",
        "scope_test()\n",
        "# The following line will produce an error because the variable is not defined outside the function\n",
        "# print(function_scope_variable)"
      ],
      "metadata": {
        "colab": {
          "base_uri": "https://localhost:8080/"
        },
        "id": "_q7BgALdLlqr",
        "outputId": "8c4c939f-2c7c-4d8f-c666-12b7afb92f1c"
      },
      "execution_count": null,
      "outputs": [
        {
          "output_type": "stream",
          "name": "stdout",
          "text": [
            "I am inside the function\n"
          ]
        }
      ]
    },
    {
      "cell_type": "markdown",
      "source": [
        "# **Error Handling in Python**\n",
        "* **Basic try-except block**: Catches a ZeroDivisionError.\n",
        "* **Handling multiple exceptions**: Demonstrates how to handle different types of exceptions separately.\n",
        "* **Using except without an exception class**: Catches any exception that occurs in the try block.\n"
      ],
      "metadata": {
        "id": "vvpesxz5NL70"
      }
    },
    {
      "cell_type": "code",
      "source": [
        "# Basic try-except block\n",
        "try:\n",
        "    print(\"Inside try block\")\n",
        "    result = 10 / 0  # This will raise a ZeroDivisionError\n",
        "except ZeroDivisionError:\n",
        "    print(\"Caught a ZeroDivisionError!\")"
      ],
      "metadata": {
        "colab": {
          "base_uri": "https://localhost:8080/"
        },
        "id": "sWBzSJ0MNQAe",
        "outputId": "6f642862-d6ee-48dd-fb6e-130ae807eec3"
      },
      "execution_count": null,
      "outputs": [
        {
          "output_type": "stream",
          "name": "stdout",
          "text": [
            "Inside try block\n",
            "Caught a ZeroDivisionError!\n"
          ]
        }
      ]
    },
    {
      "cell_type": "code",
      "source": [
        "# Handling multiple exceptions\n",
        "try:\n",
        "    # Uncomment one of the lines below to test different exceptions\n",
        "    # result = 10 / 0  # Uncomment to test ZeroDivisionError\n",
        "    result = int(\"abc\")  # Uncomment to test ValueError\n",
        "    pass\n",
        "except ZeroDivisionError:\n",
        "    print(\"Caught a ZeroDivisionError!\")\n",
        "except ValueError:\n",
        "    print(\"Caught a ValueError!\")"
      ],
      "metadata": {
        "colab": {
          "base_uri": "https://localhost:8080/"
        },
        "id": "fijowi9WNRG7",
        "outputId": "a968e391-ffe5-4487-fafd-4c82360d0a06"
      },
      "execution_count": null,
      "outputs": [
        {
          "output_type": "stream",
          "name": "stdout",
          "text": [
            "Caught a ValueError!\n"
          ]
        }
      ]
    },
    {
      "cell_type": "code",
      "source": [
        "# Using except without an exception class\n",
        "try:\n",
        "    result = 10 / \"a\"  # This will raise a TypeError\n",
        "except:\n",
        "    print(\"An error occurred\")"
      ],
      "metadata": {
        "colab": {
          "base_uri": "https://localhost:8080/"
        },
        "id": "S23OqNzTNUll",
        "outputId": "aa292657-72fd-4f5e-c2bc-3c9b287a6186"
      },
      "execution_count": null,
      "outputs": [
        {
          "output_type": "stream",
          "name": "stdout",
          "text": [
            "An error occurred\n"
          ]
        }
      ]
    },
    {
      "cell_type": "markdown",
      "source": [
        "# **File Handling**\n",
        "* **Writing to a file**: Creates a new file or overwrites an existing file with the specified content.\n",
        "* **Reading from a file**: Reads the entire content of a file and prints it.\n",
        "* **Reading a file line by line**: Iterates over each line in the file and prints it.\n",
        "* **Appending to a file**: Adds new content to the end of an existing file.\n",
        "* **Using readlines()**: Reads all lines of the file into a list.\n",
        "* **Error handling in file operations**: Uses a try-except block to handle the case where the file does not exist.\n",
        "* **Writing multiple lines with writelines()**: Demonstrates how to write a list of strings to a file."
      ],
      "metadata": {
        "id": "7X5psoxcO_SM"
      }
    },
    {
      "cell_type": "code",
      "source": [
        "# Writing to a file\n",
        "with open(\"example.txt\", \"w\") as file:\n",
        "    file.write(\"Hello, file world!\\n\")\n",
        "    file.write(\"This is another line.\")"
      ],
      "metadata": {
        "id": "A8Nt3Qt7Nf83"
      },
      "execution_count": null,
      "outputs": []
    },
    {
      "cell_type": "code",
      "source": [
        "# Reading from a file\n",
        "with open(\"example.txt\", \"r\") as file:\n",
        "    content = file.read()\n",
        "    print(\"File content:\")\n",
        "    print(content)\n"
      ],
      "metadata": {
        "colab": {
          "base_uri": "https://localhost:8080/"
        },
        "id": "A3wtXEiEPi-n",
        "outputId": "5abff1e2-4bde-4e83-a626-10c5cc2de48f"
      },
      "execution_count": null,
      "outputs": [
        {
          "output_type": "stream",
          "name": "stdout",
          "text": [
            "File content:\n",
            "Hello, file world!\n",
            "This is another line.\n"
          ]
        }
      ]
    },
    {
      "cell_type": "code",
      "source": [
        "# Reading a file line by line\n",
        "print(\"\\nReading file line by line:\")\n",
        "with open(\"example.txt\", \"r\") as file:\n",
        "    for line in file:\n",
        "        print(line.strip())  # strip() removes the newline character at the end of each line\n"
      ],
      "metadata": {
        "colab": {
          "base_uri": "https://localhost:8080/"
        },
        "id": "PBM4czZVPmq3",
        "outputId": "930046de-cc77-41b2-9981-fa35d6b35e2e"
      },
      "execution_count": null,
      "outputs": [
        {
          "output_type": "stream",
          "name": "stdout",
          "text": [
            "\n",
            "Reading file line by line:\n",
            "Hello, file world!\n",
            "This is another line.\n"
          ]
        }
      ]
    },
    {
      "cell_type": "code",
      "source": [
        "# Appending to a file\n",
        "with open(\"example.txt\", \"a\") as file:\n",
        "    file.write(\"\\nAppended line.\")"
      ],
      "metadata": {
        "id": "uVq6j7JYPq0j"
      },
      "execution_count": null,
      "outputs": []
    },
    {
      "cell_type": "code",
      "source": [
        "# Reading the appended file\n",
        "with open(\"example.txt\", \"r\") as file:\n",
        "    content = file.read()\n",
        "    print(\"\\nUpdated file content after appending:\")\n",
        "    print(content)"
      ],
      "metadata": {
        "colab": {
          "base_uri": "https://localhost:8080/"
        },
        "id": "EaOwfMP8Pt-X",
        "outputId": "481a222c-aa2f-469f-da49-8f466231ae73"
      },
      "execution_count": null,
      "outputs": [
        {
          "output_type": "stream",
          "name": "stdout",
          "text": [
            "\n",
            "Updated file content after appending:\n",
            "Hello, file world!\n",
            "This is another line.\n",
            "Appended line.\n"
          ]
        }
      ]
    },
    {
      "cell_type": "code",
      "source": [
        "# Using readlines() to get a list of lines\n",
        "with open(\"example.txt\", \"r\") as file:\n",
        "    lines = file.readlines()\n",
        "    print(\"\\nFile content as a list of lines:\")\n",
        "    print(lines)\n"
      ],
      "metadata": {
        "colab": {
          "base_uri": "https://localhost:8080/"
        },
        "id": "2Qko8zNGPw8J",
        "outputId": "8d48ec6d-e4dd-423b-f3e8-34c947a97463"
      },
      "execution_count": null,
      "outputs": [
        {
          "output_type": "stream",
          "name": "stdout",
          "text": [
            "\n",
            "File content as a list of lines:\n",
            "['Hello, file world!\\n', 'This is another line.\\n', 'Appended line.']\n"
          ]
        }
      ]
    },
    {
      "cell_type": "code",
      "source": [
        "# Error handling in file operations\n",
        "try:\n",
        "    with open(\"non_existent_file.txt\", \"r\") as file:\n",
        "        content = file.read()\n",
        "except FileNotFoundError:\n",
        "    print(\"\\nFile not found error caught\")\n"
      ],
      "metadata": {
        "colab": {
          "base_uri": "https://localhost:8080/"
        },
        "id": "ov8ukZ2HP23k",
        "outputId": "e4ad7a3b-21ad-412c-92c5-9210a6af63f5"
      },
      "execution_count": null,
      "outputs": [
        {
          "output_type": "stream",
          "name": "stdout",
          "text": [
            "\n",
            "File not found error caught\n"
          ]
        }
      ]
    },
    {
      "cell_type": "code",
      "source": [
        "# Writing multiple lines with writelines()\n",
        "lines_to_write = [\"First line\\n\", \"Second line\\n\", \"Third line\\n\"]\n",
        "with open(\"another_example.txt\", \"w\") as file:\n",
        "    file.writelines(lines_to_write)\n"
      ],
      "metadata": {
        "id": "YvhuRGMVP52P"
      },
      "execution_count": null,
      "outputs": []
    },
    {
      "cell_type": "code",
      "source": [
        "# Reading the newly written file\n",
        "with open(\"another_example.txt\", \"r\") as file:\n",
        "    print(\"\\nContents of another_example.txt:\")\n",
        "    print(file.read())"
      ],
      "metadata": {
        "colab": {
          "base_uri": "https://localhost:8080/"
        },
        "id": "H2NK2Au7P819",
        "outputId": "390e9c93-008f-42bd-fdab-97cd7b3502c9"
      },
      "execution_count": null,
      "outputs": [
        {
          "output_type": "stream",
          "name": "stdout",
          "text": [
            "\n",
            "Contents of another_example.txt:\n",
            "First line\n",
            "Second line\n",
            "Third line\n",
            "\n"
          ]
        }
      ]
    },
    {
      "cell_type": "markdown",
      "source": [
        "# **Some of the Advanced Concepts**\n",
        "* **List Comprehensions**: Demonstrates creating a list by applying an expression to each item in a sequence. It shows basic list comprehension, with a condition, and a nested comprehension.\n",
        "* **Lambda Functions**: Shows how to define an anonymous function (lambda). Includes examples of using lambda with map (to apply a function to all items in a list) and filter (to filter items in a list based on a condition).\n",
        "* **Dictionary Comprehension**: Creates a dictionary with a comprehension, mapping each number in the range to its square.\n",
        "* **Set Comprehension**: Similar to list comprehension but creates a set, which automatically removes duplicates and is unordered."
      ],
      "metadata": {
        "id": "-LwMaeoGQRi8"
      }
    },
    {
      "cell_type": "code",
      "source": [
        "# List Comprehensions\n",
        "# Basic list comprehension\n",
        "squares = [x**2 for x in range(10)]\n",
        "print(\"Squares:\", squares)"
      ],
      "metadata": {
        "colab": {
          "base_uri": "https://localhost:8080/"
        },
        "id": "skyy3zu-QXwA",
        "outputId": "d9909118-d82b-4ac4-d61b-4cb28d8d0df5"
      },
      "execution_count": null,
      "outputs": [
        {
          "output_type": "stream",
          "name": "stdout",
          "text": [
            "Squares: [0, 1, 4, 9, 16, 25, 36, 49, 64, 81]\n"
          ]
        }
      ]
    },
    {
      "cell_type": "code",
      "source": [
        "# List comprehension with a condition\n",
        "even_squares = [x**2 for x in range(10) if x % 2 == 0]\n",
        "print(\"Even Squares:\", even_squares)"
      ],
      "metadata": {
        "colab": {
          "base_uri": "https://localhost:8080/"
        },
        "id": "icWpyt6ZQb9D",
        "outputId": "2b80b719-905f-443d-89c9-6edcb7e2bf58"
      },
      "execution_count": null,
      "outputs": [
        {
          "output_type": "stream",
          "name": "stdout",
          "text": [
            "Even Squares: [0, 4, 16, 36, 64]\n"
          ]
        }
      ]
    },
    {
      "cell_type": "code",
      "source": [
        "# Nested list comprehension\n",
        "matrix = [[1, 2, 3], [4, 5, 6], [7, 8, 9]]\n",
        "flattened = [num for row in matrix for num in row]\n",
        "print(\"Flattened matrix:\", flattened)"
      ],
      "metadata": {
        "colab": {
          "base_uri": "https://localhost:8080/"
        },
        "id": "RoPh2u-GQfxa",
        "outputId": "6ce53979-5763-4cd3-aa79-9ba2f8980137"
      },
      "execution_count": null,
      "outputs": [
        {
          "output_type": "stream",
          "name": "stdout",
          "text": [
            "Flattened matrix: [1, 2, 3, 4, 5, 6, 7, 8, 9]\n"
          ]
        }
      ]
    },
    {
      "cell_type": "code",
      "source": [
        "# Lambda Functions\n",
        "# Simple lambda function\n",
        "add = lambda x, y: x + y\n",
        "print(\"Lambda add:\", add(5, 3))"
      ],
      "metadata": {
        "colab": {
          "base_uri": "https://localhost:8080/"
        },
        "id": "gj4XhVUoQrD5",
        "outputId": "747ea03d-dc4f-434c-90e4-35a53c01625f"
      },
      "execution_count": null,
      "outputs": [
        {
          "output_type": "stream",
          "name": "stdout",
          "text": [
            "Lambda add: 8\n"
          ]
        }
      ]
    },
    {
      "cell_type": "code",
      "source": [
        "# Lambda with map\n",
        "nums = [1, 2, 3, 4, 5]\n",
        "squared_nums = list(map(lambda x: x**2, nums))\n",
        "print(\"Squared numbers (using map):\", squared_nums)"
      ],
      "metadata": {
        "colab": {
          "base_uri": "https://localhost:8080/"
        },
        "id": "nFaQbfDKQw1p",
        "outputId": "a1e319be-1c56-4f24-fc1f-aea27c5ecfec"
      },
      "execution_count": null,
      "outputs": [
        {
          "output_type": "stream",
          "name": "stdout",
          "text": [
            "Squared numbers (using map): [1, 4, 9, 16, 25]\n"
          ]
        }
      ]
    },
    {
      "cell_type": "code",
      "source": [
        "# Lambda with filter\n",
        "even_nums = list(filter(lambda x: x % 2 == 0, nums))\n",
        "print(\"Even numbers (using filter):\", even_nums)"
      ],
      "metadata": {
        "colab": {
          "base_uri": "https://localhost:8080/"
        },
        "id": "KrQCDRsOQ4CG",
        "outputId": "03ad5f22-973c-4a52-fd16-38ea5cb2f7d0"
      },
      "execution_count": null,
      "outputs": [
        {
          "output_type": "stream",
          "name": "stdout",
          "text": [
            "Even numbers (using filter): [2, 4]\n"
          ]
        }
      ]
    },
    {
      "cell_type": "code",
      "source": [
        "# Dictionary Comprehension\n",
        "square_dict = {x: x**2 for x in range(1, 5)}\n",
        "print(\"Square dictionary:\", square_dict)"
      ],
      "metadata": {
        "colab": {
          "base_uri": "https://localhost:8080/"
        },
        "id": "3p3GAdLvQ95s",
        "outputId": "1e5b6979-78be-4b3b-c2c6-59e4bab1c067"
      },
      "execution_count": null,
      "outputs": [
        {
          "output_type": "stream",
          "name": "stdout",
          "text": [
            "Square dictionary: {1: 1, 2: 4, 3: 9, 4: 16}\n"
          ]
        }
      ]
    },
    {
      "cell_type": "code",
      "source": [
        "# Set Comprehension\n",
        "square_set = {x**2 for x in range(1, 5)}\n",
        "print(\"Square set:\", square_set)"
      ],
      "metadata": {
        "colab": {
          "base_uri": "https://localhost:8080/"
        },
        "id": "stZzsaZ2RC9J",
        "outputId": "b9779f8c-14d8-43c1-f310-d70844d2e092"
      },
      "execution_count": null,
      "outputs": [
        {
          "output_type": "stream",
          "name": "stdout",
          "text": [
            "Square set: {16, 1, 4, 9}\n"
          ]
        }
      ]
    },
    {
      "cell_type": "markdown",
      "source": [
        "# **Modules and Libraries**\n",
        "* **math**: Provides basic mathematical operations and constants.\n",
        "* **numpy**: Essential for numerical computations, especially array and matrix manipulations.\n",
        "* **matplotlib**: Used for creating a wide variety of static, animated, and interactive plots and visualizations."
      ],
      "metadata": {
        "id": "JxlxLFXoRqHh"
      }
    },
    {
      "cell_type": "code",
      "source": [
        "pip install matplotlib numpy"
      ],
      "metadata": {
        "colab": {
          "base_uri": "https://localhost:8080/"
        },
        "id": "h9TU0ijlRpjM",
        "outputId": "03354143-da67-4a43-a00a-f0c8e6c80e8b"
      },
      "execution_count": null,
      "outputs": [
        {
          "output_type": "stream",
          "name": "stdout",
          "text": [
            "Requirement already satisfied: matplotlib in /usr/local/lib/python3.10/dist-packages (3.7.1)\n",
            "Requirement already satisfied: numpy in /usr/local/lib/python3.10/dist-packages (1.23.5)\n",
            "Requirement already satisfied: contourpy>=1.0.1 in /usr/local/lib/python3.10/dist-packages (from matplotlib) (1.2.0)\n",
            "Requirement already satisfied: cycler>=0.10 in /usr/local/lib/python3.10/dist-packages (from matplotlib) (0.12.1)\n",
            "Requirement already satisfied: fonttools>=4.22.0 in /usr/local/lib/python3.10/dist-packages (from matplotlib) (4.47.2)\n",
            "Requirement already satisfied: kiwisolver>=1.0.1 in /usr/local/lib/python3.10/dist-packages (from matplotlib) (1.4.5)\n",
            "Requirement already satisfied: packaging>=20.0 in /usr/local/lib/python3.10/dist-packages (from matplotlib) (23.2)\n",
            "Requirement already satisfied: pillow>=6.2.0 in /usr/local/lib/python3.10/dist-packages (from matplotlib) (9.4.0)\n",
            "Requirement already satisfied: pyparsing>=2.3.1 in /usr/local/lib/python3.10/dist-packages (from matplotlib) (3.1.1)\n",
            "Requirement already satisfied: python-dateutil>=2.7 in /usr/local/lib/python3.10/dist-packages (from matplotlib) (2.8.2)\n",
            "Requirement already satisfied: six>=1.5 in /usr/local/lib/python3.10/dist-packages (from python-dateutil>=2.7->matplotlib) (1.16.0)\n"
          ]
        }
      ]
    },
    {
      "cell_type": "code",
      "source": [
        "import math\n",
        "\n",
        "# Using the math module for various mathematical operations\n",
        "print(\"Cosine of 60 degrees:\", math.cos(math.radians(60)))\n",
        "print(\"Square root of 16:\", math.sqrt(16))"
      ],
      "metadata": {
        "colab": {
          "base_uri": "https://localhost:8080/"
        },
        "id": "l1aaiRt3Rylb",
        "outputId": "0bb110cf-498a-44b7-dc27-ee36933f682c"
      },
      "execution_count": null,
      "outputs": [
        {
          "output_type": "stream",
          "name": "stdout",
          "text": [
            "Cosine of 60 degrees: 0.5000000000000001\n",
            "Square root of 16: 4.0\n"
          ]
        }
      ]
    },
    {
      "cell_type": "code",
      "source": [
        "import numpy as np\n",
        "\n",
        "# Using numpy for array operations\n",
        "arr = np.array([1, 2, 3, 4, 5])\n",
        "print(\"Original array:\", arr)\n",
        "print(\"Array squared:\", np.square(arr))\n"
      ],
      "metadata": {
        "colab": {
          "base_uri": "https://localhost:8080/"
        },
        "id": "bwYzOhFBSTyB",
        "outputId": "6cafb662-f6db-4881-a363-b60816a8f4e0"
      },
      "execution_count": null,
      "outputs": [
        {
          "output_type": "stream",
          "name": "stdout",
          "text": [
            "Original array: [1 2 3 4 5]\n",
            "Array squared: [ 1  4  9 16 25]\n"
          ]
        }
      ]
    },
    {
      "cell_type": "code",
      "source": [
        "import matplotlib.pyplot as plt\n",
        "import numpy as np\n",
        "\n",
        "# Generating a sine wave data using numpy\n",
        "x = np.linspace(0, 2 * np.pi, 100)  # 100 points between 0 and 2*pi\n",
        "y = np.sin(x)\n",
        "\n",
        "# Now, we use the data generated by numpy to plot a sine wave\n",
        "plt.plot(x, y)\n",
        "plt.title(\"Sine Wave\")\n",
        "plt.xlabel(\"x\")\n",
        "plt.ylabel(\"sin(x)\")\n",
        "plt.grid(True)\n",
        "plt.show()\n"
      ],
      "metadata": {
        "colab": {
          "base_uri": "https://localhost:8080/",
          "height": 472
        },
        "id": "jCh73BzeSWcZ",
        "outputId": "aa30e6b6-4210-4533-804f-fa84ccf7637b"
      },
      "execution_count": null,
      "outputs": [
        {
          "output_type": "display_data",
          "data": {
            "text/plain": [
              "<Figure size 640x480 with 1 Axes>"
            ],
            "image/png": "[encoded data removed]"
          },
          "metadata": {}
        }
      ]
    },
    {
      "cell_type": "markdown",
      "source": [
        "# **Basics of Numpy**\n",
        "* **Creating Arrays**: Demonstrates how to create one-dimensional and multi-dimensional arrays.\n",
        "* **Random Numbers**: Creates an array with random values.\n",
        "* **Zeros and Ones**: Creates arrays filled with zeros and ones, respectively.\n",
        "* **Diagonal Array**: Creates an identity matrix.\n",
        "* **Array Shape and Size**: Retrieves the shape (dimensions) and size (total number of elements) of an array.\n",
        "* **Data Type**: Shows the data type of the array elements.\n",
        "* **Editing Arrays**: Modifies an element of the array.\n",
        "* **Populating Arrays**: Creates an array with a range of values using np.arange.\n",
        "* **Transposing Arrays**: Transposes a 2D array.\n",
        "* **Reshaping Arrays**: Changes the shape of an array.\n",
        "* **Operations on Arrays**: Demonstrates basic arithmetic operations on arrays.\n",
        "* **Broadcasting**: Shows how operations can be applied to arrays of different sizes.\n",
        "* **Indexing and Slicing**: Accesses a portion of the array.\n",
        "* **Plotting Array Data**: Plots the array using matplotlib."
      ],
      "metadata": {
        "id": "kCJm7P_1T8Xi"
      }
    },
    {
      "cell_type": "code",
      "source": [
        "import numpy as np\n",
        "import matplotlib.pyplot as plt"
      ],
      "metadata": {
        "id": "19wOFSUxUCpK"
      },
      "execution_count": null,
      "outputs": []
    },
    {
      "cell_type": "code",
      "source": [
        "# Creating 1D and Multi-dimensional arrays\n",
        "array_1d = np.array([1, 2, 3, 4, 5])\n",
        "print(\"1D Array:\", array_1d)\n",
        "\n",
        "array_2d = np.array([[1, 2, 3], [4, 5, 6]])\n",
        "print(\"2D Array:\\n\", array_2d)"
      ],
      "metadata": {
        "colab": {
          "base_uri": "https://localhost:8080/"
        },
        "id": "7ZlTKZRDUE2J",
        "outputId": "5833a9b8-fab0-47e0-f520-ab559e01e510"
      },
      "execution_count": null,
      "outputs": [
        {
          "output_type": "stream",
          "name": "stdout",
          "text": [
            "1D Array: [1 2 3 4 5]\n",
            "2D Array:\n",
            " [[1 2 3]\n",
            " [4 5 6]]\n"
          ]
        }
      ]
    },
    {
      "cell_type": "code",
      "source": [
        "# Array shape and size\n",
        "print(\"Shape of array_2d:\", array_2d.shape)\n",
        "print(\"Size of array_2d:\", array_2d.size)"
      ],
      "metadata": {
        "colab": {
          "base_uri": "https://localhost:8080/"
        },
        "id": "fYrjd2alUW2J",
        "outputId": "5ca42d39-a204-4588-f25e-41caa559382d"
      },
      "execution_count": null,
      "outputs": [
        {
          "output_type": "stream",
          "name": "stdout",
          "text": [
            "Shape of array_2d: (2, 3)\n",
            "Size of array_2d: 6\n"
          ]
        }
      ]
    },
    {
      "cell_type": "code",
      "source": [
        "# Data type of array elements\n",
        "print(\"Data type of array_1d:\", array_1d.dtype)"
      ],
      "metadata": {
        "colab": {
          "base_uri": "https://localhost:8080/"
        },
        "id": "Kb-KkDg7Uggc",
        "outputId": "35643754-6fc7-4f9d-82b8-4bdd2c3ea828"
      },
      "execution_count": null,
      "outputs": [
        {
          "output_type": "stream",
          "name": "stdout",
          "text": [
            "Data type of array_1d: int64\n"
          ]
        }
      ]
    },
    {
      "cell_type": "code",
      "source": [
        "# Editing arrays\n",
        "array_1d[2] = 10\n",
        "print(\"Edited 1D Array:\", array_1d)"
      ],
      "metadata": {
        "colab": {
          "base_uri": "https://localhost:8080/"
        },
        "id": "lviMRnJoUnXE",
        "outputId": "dd131f42-2d91-4920-caf6-776b13e4412d"
      },
      "execution_count": null,
      "outputs": [
        {
          "output_type": "stream",
          "name": "stdout",
          "text": [
            "Edited 1D Array: [ 1  2 10  4  5]\n"
          ]
        }
      ]
    },
    {
      "cell_type": "code",
      "source": [
        "# Transposing arrays\n",
        "transposed = array_2d.T\n",
        "print(\"Transposed Array:\\n\", transposed)"
      ],
      "metadata": {
        "colab": {
          "base_uri": "https://localhost:8080/"
        },
        "id": "i_lD247oU3MF",
        "outputId": "e785e7f7-8a2a-4165-9de2-04595ec0077d"
      },
      "execution_count": null,
      "outputs": [
        {
          "output_type": "stream",
          "name": "stdout",
          "text": [
            "Transposed Array:\n",
            " [[1 4]\n",
            " [2 5]\n",
            " [3 6]]\n"
          ]
        }
      ]
    },
    {
      "cell_type": "code",
      "source": [
        "# Creating arrays with random numbers\n",
        "random_array = np.random.rand(3, 3)  # 3x3 array with random numbers\n",
        "print(\"Random Array:\\n\", random_array)"
      ],
      "metadata": {
        "colab": {
          "base_uri": "https://localhost:8080/"
        },
        "id": "DXiAv3jJUJlM",
        "outputId": "9751966e-de46-4e8f-9911-4277642fbdf9"
      },
      "execution_count": null,
      "outputs": [
        {
          "output_type": "stream",
          "name": "stdout",
          "text": [
            "Random Array:\n",
            " [[0.25583193 0.56411852 0.66313012]\n",
            " [0.92670431 0.2981022  0.42234729]\n",
            " [0.50501689 0.03513282 0.24982648]]\n"
          ]
        }
      ]
    },
    {
      "cell_type": "code",
      "source": [
        "# Arrays of zeros and ones\n",
        "zeros_array = np.zeros((2, 2))\n",
        "print(\"Zeros Array:\\n\", zeros_array)\n",
        "\n",
        "ones_array = np.ones((2, 3))\n",
        "print(\"Ones Array:\\n\", ones_array)\n"
      ],
      "metadata": {
        "colab": {
          "base_uri": "https://localhost:8080/"
        },
        "id": "N6MyS5bMUN4f",
        "outputId": "f3de5043-9f24-45a0-a472-f07916216316"
      },
      "execution_count": null,
      "outputs": [
        {
          "output_type": "stream",
          "name": "stdout",
          "text": [
            "Zeros Array:\n",
            " [[0. 0.]\n",
            " [0. 0.]]\n",
            "Ones Array:\n",
            " [[1. 1. 1.]\n",
            " [1. 1. 1.]]\n"
          ]
        }
      ]
    },
    {
      "cell_type": "code",
      "source": [
        "# Diagonal array\n",
        "diagonal_array = np.eye(3)\n",
        "print(\"Diagonal Array:\\n\", diagonal_array)"
      ],
      "metadata": {
        "colab": {
          "base_uri": "https://localhost:8080/"
        },
        "id": "ruyd3NwbUROV",
        "outputId": "badc7ae6-8e4d-4e41-9c6b-adaf91335171"
      },
      "execution_count": null,
      "outputs": [
        {
          "output_type": "stream",
          "name": "stdout",
          "text": [
            "Diagonal Array:\n",
            " [[1. 0. 0.]\n",
            " [0. 1. 0.]\n",
            " [0. 0. 1.]]\n"
          ]
        }
      ]
    },
    {
      "cell_type": "code",
      "source": [
        "# Populating arrays with a range of values\n",
        "range_array = np.arange(10)\n",
        "print(\"Range Array:\", range_array)"
      ],
      "metadata": {
        "colab": {
          "base_uri": "https://localhost:8080/"
        },
        "id": "fyQ_hnQIUsV1",
        "outputId": "e696b8a8-0cb8-420a-fbd3-683ea402651b"
      },
      "execution_count": null,
      "outputs": [
        {
          "output_type": "stream",
          "name": "stdout",
          "text": [
            "Range Array: [0 1 2 3 4 5 6 7 8 9]\n"
          ]
        }
      ]
    },
    {
      "cell_type": "code",
      "source": [
        "# Reshaping arrays\n",
        "reshaped_array = range_array.reshape(2, 5)\n",
        "print(\"Reshaped Array:\\n\", reshaped_array)"
      ],
      "metadata": {
        "colab": {
          "base_uri": "https://localhost:8080/"
        },
        "id": "6e05aXnEU-J_",
        "outputId": "33f5a632-4c0c-46bd-b14a-997fc235dd6e"
      },
      "execution_count": null,
      "outputs": [
        {
          "output_type": "stream",
          "name": "stdout",
          "text": [
            "Reshaped Array:\n",
            " [[0 1 2 3 4]\n",
            " [5 6 7 8 9]]\n"
          ]
        }
      ]
    },
    {
      "cell_type": "code",
      "source": [
        "# Operations on arrays\n",
        "print(\"Array 1D:\", array_1d)\n",
        "\n",
        "sum_array = array_1d + array_1d\n",
        "print(\"Sum of Arrays:\", sum_array)\n"
      ],
      "metadata": {
        "colab": {
          "base_uri": "https://localhost:8080/"
        },
        "id": "tyZeCZI6VB75",
        "outputId": "6fd65853-323c-4dd9-ef21-7a90d561dfa4"
      },
      "execution_count": null,
      "outputs": [
        {
          "output_type": "stream",
          "name": "stdout",
          "text": [
            "Array 1D: [ 1  2 10  4  5]\n",
            "Sum of Arrays: [ 2  4 20  8 10]\n"
          ]
        }
      ]
    },
    {
      "cell_type": "code",
      "source": [
        "# Broadcasting\n",
        "broadcasted_array = array_1d + 2\n",
        "print(\"Broadcasted Array:\", broadcasted_array)"
      ],
      "metadata": {
        "colab": {
          "base_uri": "https://localhost:8080/"
        },
        "id": "BbLw2LdiVMqQ",
        "outputId": "a4da34d0-a634-4d65-f145-c31ad7ada365"
      },
      "execution_count": null,
      "outputs": [
        {
          "output_type": "stream",
          "name": "stdout",
          "text": [
            "Broadcasted Array: [ 3  4 12  6  7]\n"
          ]
        }
      ]
    },
    {
      "cell_type": "code",
      "source": [
        "# Indexing and slicing\n",
        "sliced_array = array_1d[1:4]\n",
        "print(\"Sliced Array:\", sliced_array)\n"
      ],
      "metadata": {
        "colab": {
          "base_uri": "https://localhost:8080/"
        },
        "id": "C1dWz4_DVQRA",
        "outputId": "4d84244f-ad21-45e5-e84e-2d81cdf22ece"
      },
      "execution_count": null,
      "outputs": [
        {
          "output_type": "stream",
          "name": "stdout",
          "text": [
            "Sliced Array: [ 2 10  4]\n"
          ]
        }
      ]
    },
    {
      "cell_type": "code",
      "source": [
        "# Plotting array data\n",
        "plt.plot(array_1d)\n",
        "plt.title(\"1D Array Plot\")\n",
        "plt.show()"
      ],
      "metadata": {
        "colab": {
          "base_uri": "https://localhost:8080/",
          "height": 452
        },
        "id": "fUavFeA4VSy-",
        "outputId": "11736631-1b06-4943-ce06-627bad6b6b13"
      },
      "execution_count": null,
      "outputs": [
        {
          "output_type": "display_data",
          "data": {
            "text/plain": [
              "<Figure size 640x480 with 1 Axes>"
            ],
            "image/png": "[encoded data removed]"
          },
          "metadata": {}
        }
      ]
    },
    {
      "cell_type": "code",
      "source": [
        "# Plotting array data\n",
        "\n",
        "x = np.linspace(0, 4 * np.pi, 1440)\n",
        "y = 1.0 * np.sin(2*x) + 0.3 * np.sin(2 * np.pi * x) ** 2 + 0.3 * np.sin(3 * np.pi * x) ** 3\n",
        "\n",
        "plt.plot(x, y);"
      ],
      "metadata": {
        "colab": {
          "base_uri": "https://localhost:8080/",
          "height": 430
        },
        "id": "QeV5-xkYORBT",
        "outputId": "e4bb389a-4b05-4c6e-c9db-c8f151e8c058"
      },
      "execution_count": null,
      "outputs": [
        {
          "output_type": "display_data",
          "data": {
            "text/plain": [
              "<Figure size 640x480 with 1 Axes>"
            ],
            "image/png": "[encoded data removed]"
          },
          "metadata": {}
        }
      ]
    },
    {
      "cell_type": "markdown",
      "source": [
        "# **Additional Excersises**\n",
        "Try **Scientific Python Lectures** examples in sections 2 and 3 at\n",
        "https://lectures.scientific-python.org/"
      ],
      "metadata": {
        "id": "kxIhsW1FM8iC"
      }
    }
  ]
}