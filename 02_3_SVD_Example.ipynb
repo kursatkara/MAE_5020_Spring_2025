{
  "nbformat": 4,
  "nbformat_minor": 0,
  "metadata": {
    "colab": {
      "provenance": [],
      "authorship_tag": "ABX9TyOvCTPXMwV8GGYkwX97WdeJ",
      "include_colab_link": true
    },
    "kernelspec": {
      "name": "python3",
      "display_name": "Python 3"
    },
    "language_info": {
      "name": "python"
    }
  },
  "cells": [
    {
      "cell_type": "markdown",
      "metadata": {
        "id": "view-in-github",
        "colab_type": "text"
      },
      "source": [
        "<a href=\"https://colab.research.google.com/github/kursatkara/MAE_5020_Spring_2025/blob/master/02_3_SVD_Example.ipynb\" target=\"_parent\"><img src=\"https://colab.research.google.com/assets/colab-badge.svg\" alt=\"Open In Colab\"/></a>"
      ]
    },
    {
      "cell_type": "markdown",
      "source": [
        "Example: Singular Value Decomposition"
      ],
      "metadata": {
        "id": "fMibVnHaUNem"
      }
    },
    {
      "cell_type": "code",
      "execution_count": 4,
      "metadata": {
        "colab": {
          "base_uri": "https://localhost:8080/"
        },
        "id": "fJ2IswnWTIjI",
        "outputId": "5bed2b8a-6e74-48d5-eb30-39d21136eab4"
      },
      "outputs": [
        {
          "output_type": "stream",
          "name": "stdout",
          "text": [
            "Matrix A: (2, 3)\n",
            "[[1 2 3]\n",
            " [4 5 6]]\n",
            "\n",
            "U: (2, 2)\n",
            "[[-0.3863177  -0.92236578]\n",
            " [-0.92236578  0.3863177 ]]\n",
            "\n",
            "S:\n",
            "[9.508032   0.77286964]\n",
            "\n",
            "VT: (3, 3)\n",
            "[[-0.42866713 -0.56630692 -0.7039467 ]\n",
            " [ 0.80596391  0.11238241 -0.58119908]\n",
            " [ 0.40824829 -0.81649658  0.40824829]]\n"
          ]
        }
      ],
      "source": [
        "import numpy as np\n",
        "\n",
        "# 2x3 matrix\n",
        "A = np.array([[1, 2, 3],\n",
        "              [4, 5, 6]])\n",
        "\n",
        "# Apply SVD\n",
        "U, S, VT = np.linalg.svd(A)\n",
        "\n",
        "print(\"Matrix A:\", A.shape)\n",
        "print(A)\n",
        "print(\"\\nU:\", U.shape)\n",
        "print(U)\n",
        "print(\"\\nS:\"), S.shape\n",
        "print(S)\n",
        "print(\"\\nVT:\", VT.shape)\n",
        "print(VT)\n"
      ]
    },
    {
      "cell_type": "code",
      "source": [],
      "metadata": {
        "id": "jOsntYRjTqaZ"
      },
      "execution_count": null,
      "outputs": []
    }
  ]
}